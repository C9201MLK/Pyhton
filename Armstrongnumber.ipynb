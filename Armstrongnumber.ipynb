{
  "nbformat": 4,
  "nbformat_minor": 0,
  "metadata": {
    "colab": {
      "name": "Armstrongnumber.ipynb",
      "provenance": [],
      "authorship_tag": "ABX9TyNULDsTzV427vNGenG1pZeY",
      "include_colab_link": true
    },
    "kernelspec": {
      "name": "python3",
      "display_name": "Python 3"
    },
    "language_info": {
      "name": "python"
    }
  },
  "cells": [
    {
      "cell_type": "markdown",
      "metadata": {
        "id": "view-in-github",
        "colab_type": "text"
      },
      "source": [
        "<a href=\"https://colab.research.google.com/github/C9201MLK/Pyhton/blob/main/Armstrongnumber.ipynb\" target=\"_parent\"><img src=\"https://colab.research.google.com/assets/colab-badge.svg\" alt=\"Open In Colab\"/></a>"
      ]
    },
    {
      "cell_type": "code",
      "metadata": {
        "colab": {
          "base_uri": "https://localhost:8080/"
        },
        "id": "9UfHGBB_AM6Z",
        "outputId": "15603e0f-74ad-41ad-c6e0-c9a6e13a6cde"
      },
      "source": [
        "# take input from the user\n",
        "num = int(input(\"Enter a number: \"))\n",
        "power = len(str(num))\n",
        "# initialize sum\n",
        "sum = 0\n",
        "# find the sum of the cube of each digit\n",
        "# temp = num\n",
        "while num > 0:\n",
        "   digit = num % 10\n",
        "   sum += digit ** power\n",
        "   num //= 10\n",
        "# display the result\n",
        "if num == sum:\n",
        "   print(num, \"is an Armstrong number\")\n",
        "else:\n",
        "   print(num, \"is not an Armstrong number\")"
      ],
      "execution_count": 1,
      "outputs": [
        {
          "output_type": "stream",
          "text": [
            "Enter a number: 12\n",
            "0 is not an Armstrong number\n"
          ],
          "name": "stdout"
        }
      ]
    }
  ]
}