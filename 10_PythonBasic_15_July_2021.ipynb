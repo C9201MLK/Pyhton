{
  "nbformat": 4,
  "nbformat_minor": 5,
  "metadata": {
    "kernelspec": {
      "display_name": "Python 3",
      "language": "python",
      "name": "python3"
    },
    "language_info": {
      "codemirror_mode": {
        "name": "ipython",
        "version": 3
      },
      "file_extension": ".py",
      "mimetype": "text/x-python",
      "name": "python",
      "nbconvert_exporter": "python",
      "pygments_lexer": "ipython3",
      "version": "3.8.8"
    },
    "colab": {
      "name": "10_PythonBasic_15-July-2021.ipynb",
      "provenance": [],
      "include_colab_link": true
    }
  },
  "cells": [
    {
      "cell_type": "markdown",
      "metadata": {
        "id": "view-in-github",
        "colab_type": "text"
      },
      "source": [
        "<a href=\"https://colab.research.google.com/github/C9201MLK/Pyhton/blob/main/10_PythonBasic_15_July_2021.ipynb\" target=\"_parent\"><img src=\"https://colab.research.google.com/assets/colab-badge.svg\" alt=\"Open In Colab\"/></a>"
      ]
    },
    {
      "cell_type": "markdown",
      "metadata": {
        "id": "406f2981"
      },
      "source": [
        "<img src=\"https://docs.google.com/uc?id=14xeXxFrVRjvOoUYWn_GuyE-v84wVzrqr\" class=\"img-fluid\" alt=\"CLRWY\" width=\"400\" height=\"200\">"
      ],
      "id": "406f2981"
    },
    {
      "cell_type": "markdown",
      "metadata": {
        "id": "22263af8"
      },
      "source": [
        "<h1><p style=\"text-align: center; color:darkblue\">Python In-Class, <br>15 July 2021</p><h1>"
      ],
      "id": "22263af8"
    },
    {
      "cell_type": "code",
      "metadata": {
        "id": "ee3d91f1",
        "outputId": "b667c1b4-d5cb-44ec-eb77-88ab564df96d"
      },
      "source": [
        "<img src=\"https://docs.google.com/uc?id=14xeXxFrVRjvOoUYWn_GuyE-v84wVzrqr\" class=\"img-fluid\" alt=\"CLRWY\" width=\"400\" height=\"200\">\n",
        "\n",
        "<h1><p style=\"text-align: center; color:darkblue\">Python In-Class, <br>12 July 2021</p><h1>"
      ],
      "id": "ee3d91f1",
      "execution_count": null,
      "outputs": [
        {
          "output_type": "error",
          "ename": "SyntaxError",
          "evalue": "invalid syntax (<ipython-input-1-0735dbb20699>, line 1)",
          "traceback": [
            "\u001b[0;36m  File \u001b[0;32m\"<ipython-input-1-0735dbb20699>\"\u001b[0;36m, line \u001b[0;32m1\u001b[0m\n\u001b[0;31m    <img src=\"https://docs.google.com/uc?id=14xeXxFrVRjvOoUYWn_GuyE-v84wVzrqr\" class=\"img-fluid\" alt=\"CLRWY\" width=\"400\" height=\"200\">\u001b[0m\n\u001b[0m    ^\u001b[0m\n\u001b[0;31mSyntaxError\u001b[0m\u001b[0;31m:\u001b[0m invalid syntax\n"
          ]
        }
      ]
    },
    {
      "cell_type": "code",
      "metadata": {
        "id": "e07bc299",
        "outputId": "d7c97696-af94-45dd-a39e-9836c8a124c9"
      },
      "source": [
        "num1 = float(input(\"Enter the first number please : \"))\n",
        "num2 = float(input(\"Enter the second number please : \"))\n",
        "\n",
        "if num1 > num2 :\n",
        "    larger = num1\n",
        "else :\n",
        "    larger = num2\n",
        "    \n",
        "print(\"The larger number is :\", larger)"
      ],
      "id": "e07bc299",
      "execution_count": null,
      "outputs": [
        {
          "output_type": "stream",
          "text": [
            "Enter the first number please : 5\n",
            "Enter the second number please : 3\n",
            "The larger number is : 5.0\n"
          ],
          "name": "stdout"
        }
      ]
    },
    {
      "cell_type": "code",
      "metadata": {
        "id": "d6026fb0",
        "outputId": "a17e33e2-f34b-4951-b1bc-3b29ebc64132"
      },
      "source": [
        "num1 = float(input(\"Enter the first number please : \"))\n",
        "num2 = float(input(\"Enter the second number please : \"))\n",
        "\n",
        "if num1 > num2 :\n",
        "    print(\"The larger number is :\", num1)\n",
        "else :\n",
        "    print(\"The larger number is :\", num2)"
      ],
      "id": "d6026fb0",
      "execution_count": null,
      "outputs": [
        {
          "output_type": "stream",
          "text": [
            "Enter the first number please : 5\n",
            "Enter the second number please : 3\n",
            "The larger number is : 5.0\n"
          ],
          "name": "stdout"
        }
      ]
    },
    {
      "cell_type": "code",
      "metadata": {
        "id": "f36cbcbe",
        "outputId": "607fea2b-7b1d-44f6-8057-17b532f264ff"
      },
      "source": [
        "bool_value = False #True\n",
        "\n",
        "\n",
        "if bool_value :\n",
        "    print(\"Yes\")\n",
        "else:\n",
        "    print(\"No\")"
      ],
      "id": "f36cbcbe",
      "execution_count": null,
      "outputs": [
        {
          "output_type": "stream",
          "text": [
            "No\n"
          ],
          "name": "stdout"
        }
      ]
    },
    {
      "cell_type": "code",
      "metadata": {
        "id": "1ebb6c52",
        "outputId": "99f1434e-2bb8-4fac-f930-ae06b34462ce"
      },
      "source": [
        "num1 = float(input(\"Enter first number : \"))\n",
        "num2 = float(input(\"Enter second number : \"))\n",
        "num3 = float(input(\"Enter third number : \"))\n",
        "\n",
        "if (num1 > num2) and (num1 > num3) :\n",
        "    largest = num1\n",
        "elif (num2 > num1) and (num2 > num3) :\n",
        "    largest = num2\n",
        "else :\n",
        "    largest = num3\n",
        "    \n",
        "print(\"The largest number is :\", largest)"
      ],
      "id": "1ebb6c52",
      "execution_count": null,
      "outputs": [
        {
          "output_type": "stream",
          "text": [
            "Enter first number : 3\n",
            "Enter second number : 4\n",
            "Enter third number : 5\n",
            "The largest number is : 5.0\n"
          ],
          "name": "stdout"
        }
      ]
    },
    {
      "cell_type": "code",
      "metadata": {
        "id": "7bc5fa2a",
        "outputId": "c303f486-4f7a-4ac3-af79-94b6b0f77d37"
      },
      "source": [
        "x = 3\n",
        "\n",
        "if x == 3 :\n",
        "    print(\"üç\")\n",
        "    \n",
        "elif x == 4 :\n",
        "    print(\"dört\")\n",
        "    \n",
        "elif x == 5 :\n",
        "    print(\"beş\")\n",
        "    \n",
        "else :\n",
        "    print(\"sonsuz\")\n",
        "    \n",
        "print(\"kod sonu geldi.\")"
      ],
      "id": "7bc5fa2a",
      "execution_count": null,
      "outputs": [
        {
          "output_type": "stream",
          "text": [
            "üç\n",
            "kod sonu geldi.\n"
          ],
          "name": "stdout"
        }
      ]
    },
    {
      "cell_type": "code",
      "metadata": {
        "id": "f38a71c7",
        "outputId": "890603a8-cbdd-4ef0-9baf-e2e46c64a688"
      },
      "source": [
        "score = int(input(\"Enter your score : \"))\n",
        "\n",
        "if score >= 90 :\n",
        "    if score >= 95 :\n",
        "        score_letter = \"A+\"\n",
        "    else :\n",
        "        score_letter = \"A\"\n",
        "        \n",
        "elif score >= 80 :\n",
        "    if score >= 85 :\n",
        "        score_letter = \"B+\"\n",
        "    else :\n",
        "        score_letter = \"B\"\n",
        "        \n",
        "else :\n",
        "    score_letter = \"B-\"\n",
        "    \n",
        "print(\"Your degree is : \", score_letter)"
      ],
      "id": "f38a71c7",
      "execution_count": null,
      "outputs": [
        {
          "output_type": "stream",
          "text": [
            "Enter your score : 90\n",
            "Your degree is :  A\n"
          ],
          "name": "stdout"
        }
      ]
    },
    {
      "cell_type": "code",
      "metadata": {
        "id": "88a658a3"
      },
      "source": [
        "items = (10, 20)"
      ],
      "id": "88a658a3",
      "execution_count": null,
      "outputs": []
    },
    {
      "cell_type": "code",
      "metadata": {
        "id": "cebeb915"
      },
      "source": [
        "x, y = items"
      ],
      "id": "cebeb915",
      "execution_count": null,
      "outputs": []
    },
    {
      "cell_type": "code",
      "metadata": {
        "id": "99a42726",
        "outputId": "f233dc4b-2832-4d19-d71e-2aa7b4ced04d"
      },
      "source": [
        "x"
      ],
      "id": "99a42726",
      "execution_count": null,
      "outputs": [
        {
          "output_type": "execute_result",
          "data": {
            "text/plain": [
              "10"
            ]
          },
          "metadata": {
            "tags": []
          },
          "execution_count": 13
        }
      ]
    },
    {
      "cell_type": "code",
      "metadata": {
        "id": "b28392c0",
        "outputId": "cd5c7166-008e-4c9b-c922-969435ee16f3"
      },
      "source": [
        "y"
      ],
      "id": "b28392c0",
      "execution_count": null,
      "outputs": [
        {
          "output_type": "execute_result",
          "data": {
            "text/plain": [
              "20"
            ]
          },
          "metadata": {
            "tags": []
          },
          "execution_count": 14
        }
      ]
    },
    {
      "cell_type": "code",
      "metadata": {
        "id": "04bf4823"
      },
      "source": [
        "a, _, b, _ = (10, 20, 30, 40)"
      ],
      "id": "04bf4823",
      "execution_count": null,
      "outputs": []
    },
    {
      "cell_type": "code",
      "metadata": {
        "id": "6e34919d",
        "outputId": "88d64dc1-2154-4147-9a94-073a6c857b2d"
      },
      "source": [
        "a"
      ],
      "id": "6e34919d",
      "execution_count": null,
      "outputs": [
        {
          "output_type": "execute_result",
          "data": {
            "text/plain": [
              "10"
            ]
          },
          "metadata": {
            "tags": []
          },
          "execution_count": 17
        }
      ]
    },
    {
      "cell_type": "code",
      "metadata": {
        "id": "86aecd31",
        "outputId": "e1d7c7f1-c8e9-4c2f-9a0c-50baddcbf6a8"
      },
      "source": [
        "b"
      ],
      "id": "86aecd31",
      "execution_count": null,
      "outputs": [
        {
          "output_type": "execute_result",
          "data": {
            "text/plain": [
              "30"
            ]
          },
          "metadata": {
            "tags": []
          },
          "execution_count": 18
        }
      ]
    },
    {
      "cell_type": "code",
      "metadata": {
        "id": "9a3c0867",
        "outputId": "e750fdc8-b765-46f9-8d3a-d31d612b4a66"
      },
      "source": [
        "print(a, b, _)"
      ],
      "id": "9a3c0867",
      "execution_count": null,
      "outputs": [
        {
          "output_type": "stream",
          "text": [
            "10 30 40\n"
          ],
          "name": "stdout"
        }
      ]
    },
    {
      "cell_type": "code",
      "metadata": {
        "id": "50925871",
        "outputId": "d6db4d8f-bd09-4f0d-f585-a45d982eebb8"
      },
      "source": [
        "x, y, z = (11, 22, 33, 44, 55)"
      ],
      "id": "50925871",
      "execution_count": null,
      "outputs": [
        {
          "output_type": "error",
          "ename": "ValueError",
          "evalue": "too many values to unpack (expected 3)",
          "traceback": [
            "\u001b[0;31m---------------------------------------------------------------------------\u001b[0m",
            "\u001b[0;31mValueError\u001b[0m                                Traceback (most recent call last)",
            "\u001b[0;32m<ipython-input-20-9f0c1446e707>\u001b[0m in \u001b[0;36m<module>\u001b[0;34m\u001b[0m\n\u001b[0;32m----> 1\u001b[0;31m \u001b[0mx\u001b[0m\u001b[0;34m,\u001b[0m \u001b[0my\u001b[0m\u001b[0;34m,\u001b[0m \u001b[0mz\u001b[0m \u001b[0;34m=\u001b[0m \u001b[0;34m(\u001b[0m\u001b[0;36m11\u001b[0m\u001b[0;34m,\u001b[0m \u001b[0;36m22\u001b[0m\u001b[0;34m,\u001b[0m \u001b[0;36m33\u001b[0m\u001b[0;34m,\u001b[0m \u001b[0;36m44\u001b[0m\u001b[0;34m,\u001b[0m \u001b[0;36m55\u001b[0m\u001b[0;34m)\u001b[0m\u001b[0;34m\u001b[0m\u001b[0;34m\u001b[0m\u001b[0m\n\u001b[0m",
            "\u001b[0;31mValueError\u001b[0m: too many values to unpack (expected 3)"
          ]
        }
      ]
    },
    {
      "cell_type": "code",
      "metadata": {
        "id": "703e2628"
      },
      "source": [
        "x, y, *z = (11, 22, 33, 44, 55)"
      ],
      "id": "703e2628",
      "execution_count": null,
      "outputs": []
    },
    {
      "cell_type": "code",
      "metadata": {
        "id": "3d731c24",
        "outputId": "a00a717a-2376-4791-c46f-5b897917efa2"
      },
      "source": [
        "z"
      ],
      "id": "3d731c24",
      "execution_count": null,
      "outputs": [
        {
          "output_type": "execute_result",
          "data": {
            "text/plain": [
              "[33, 44, 55]"
            ]
          },
          "metadata": {
            "tags": []
          },
          "execution_count": 22
        }
      ]
    },
    {
      "cell_type": "code",
      "metadata": {
        "id": "a8be4600"
      },
      "source": [
        "x, y, *_ = (11, 22, 33, 44, 55, 66, 77)"
      ],
      "id": "a8be4600",
      "execution_count": null,
      "outputs": []
    },
    {
      "cell_type": "code",
      "metadata": {
        "id": "ba808b19",
        "outputId": "8bb92b2d-4e73-436d-8919-064a526f55f8"
      },
      "source": [
        "x"
      ],
      "id": "ba808b19",
      "execution_count": null,
      "outputs": [
        {
          "output_type": "execute_result",
          "data": {
            "text/plain": [
              "11"
            ]
          },
          "metadata": {
            "tags": []
          },
          "execution_count": 25
        }
      ]
    },
    {
      "cell_type": "code",
      "metadata": {
        "id": "3f2727cf",
        "outputId": "3498199c-c07e-4d2d-f4bf-763823d06a99"
      },
      "source": [
        "y"
      ],
      "id": "3f2727cf",
      "execution_count": null,
      "outputs": [
        {
          "output_type": "execute_result",
          "data": {
            "text/plain": [
              "22"
            ]
          },
          "metadata": {
            "tags": []
          },
          "execution_count": 26
        }
      ]
    },
    {
      "cell_type": "code",
      "metadata": {
        "id": "d1730c2c",
        "outputId": "b4b1ac53-6149-46dd-9239-9326641465a2"
      },
      "source": [
        "_"
      ],
      "id": "d1730c2c",
      "execution_count": null,
      "outputs": [
        {
          "output_type": "execute_result",
          "data": {
            "text/plain": [
              "[33, 44, 55, 66, 77]"
            ]
          },
          "metadata": {
            "tags": []
          },
          "execution_count": 27
        }
      ]
    },
    {
      "cell_type": "code",
      "metadata": {
        "id": "2a35f631"
      },
      "source": [
        "x, y, *z, t = (11, 22, 33, 44, 55, 66, 77)"
      ],
      "id": "2a35f631",
      "execution_count": null,
      "outputs": []
    },
    {
      "cell_type": "code",
      "metadata": {
        "id": "ab8ef7a1",
        "outputId": "c971085f-0cce-47e6-c740-f8444b111457"
      },
      "source": [
        "print(x, y, z, t)"
      ],
      "id": "ab8ef7a1",
      "execution_count": null,
      "outputs": [
        {
          "output_type": "stream",
          "text": [
            "11 22 [33, 44, 55, 66] 77\n"
          ],
          "name": "stdout"
        }
      ]
    },
    {
      "cell_type": "code",
      "metadata": {
        "id": "eac32aec"
      },
      "source": [
        "x, y, *_, t = (11, 22, 33, 44, 55, 66, 77)"
      ],
      "id": "eac32aec",
      "execution_count": null,
      "outputs": []
    },
    {
      "cell_type": "code",
      "metadata": {
        "id": "c9d71698",
        "outputId": "7580b89e-ae76-4325-d840-c6f4353ff11b"
      },
      "source": [
        "print(x, y, t)"
      ],
      "id": "c9d71698",
      "execution_count": null,
      "outputs": [
        {
          "output_type": "stream",
          "text": [
            "11 22 77\n"
          ],
          "name": "stdout"
        }
      ]
    },
    {
      "cell_type": "code",
      "metadata": {
        "id": "4bc44807",
        "outputId": "e69b7f39-352e-4b03-94eb-566853e0f51c"
      },
      "source": [
        "max(1,2,3)"
      ],
      "id": "4bc44807",
      "execution_count": null,
      "outputs": [
        {
          "output_type": "execute_result",
          "data": {
            "text/plain": [
              "3"
            ]
          },
          "metadata": {
            "tags": []
          },
          "execution_count": 34
        }
      ]
    },
    {
      "cell_type": "code",
      "metadata": {
        "id": "aafbd3d4"
      },
      "source": [
        "empty = []"
      ],
      "id": "aafbd3d4",
      "execution_count": null,
      "outputs": []
    },
    {
      "cell_type": "code",
      "metadata": {
        "id": "06201523",
        "outputId": "f5c1ea33-685d-43cf-9ae4-941b0b3068a1"
      },
      "source": [
        "max(empty, default=True)"
      ],
      "id": "06201523",
      "execution_count": null,
      "outputs": [
        {
          "output_type": "execute_result",
          "data": {
            "text/plain": [
              "True"
            ]
          },
          "metadata": {
            "tags": []
          },
          "execution_count": 36
        }
      ]
    },
    {
      "cell_type": "code",
      "metadata": {
        "id": "bd5d4993",
        "outputId": "e50c12b2-f9f4-4da3-9214-81fd9bfda5f4"
      },
      "source": [
        "max(empty, default=\"Boş\")"
      ],
      "id": "bd5d4993",
      "execution_count": null,
      "outputs": [
        {
          "output_type": "execute_result",
          "data": {
            "text/plain": [
              "'Boş'"
            ]
          },
          "metadata": {
            "tags": []
          },
          "execution_count": 37
        }
      ]
    },
    {
      "cell_type": "code",
      "metadata": {
        "id": "9ca2ef23"
      },
      "source": [
        "seq = [1,1,1,1,1,2,2,2,2,3,3,3,4,4]"
      ],
      "id": "9ca2ef23",
      "execution_count": null,
      "outputs": []
    },
    {
      "cell_type": "code",
      "metadata": {
        "id": "998e52cd",
        "outputId": "e7c5d4a5-baba-4224-eea2-04746c6c7755"
      },
      "source": [
        "max(seq)"
      ],
      "id": "998e52cd",
      "execution_count": null,
      "outputs": [
        {
          "output_type": "execute_result",
          "data": {
            "text/plain": [
              "4"
            ]
          },
          "metadata": {
            "tags": []
          },
          "execution_count": 42
        }
      ]
    },
    {
      "cell_type": "code",
      "metadata": {
        "id": "67fe6998",
        "outputId": "75ee9caa-70cc-44d8-a33b-17286c31738a"
      },
      "source": [
        "seq.count(4)"
      ],
      "id": "67fe6998",
      "execution_count": null,
      "outputs": [
        {
          "output_type": "execute_result",
          "data": {
            "text/plain": [
              "2"
            ]
          },
          "metadata": {
            "tags": []
          },
          "execution_count": 43
        }
      ]
    },
    {
      "cell_type": "code",
      "metadata": {
        "id": "8691b669",
        "outputId": "b1057527-5c09-4c07-816b-01a98c4636c4"
      },
      "source": [
        "seq.count(max(seq))"
      ],
      "id": "8691b669",
      "execution_count": null,
      "outputs": [
        {
          "output_type": "execute_result",
          "data": {
            "text/plain": [
              "2"
            ]
          },
          "metadata": {
            "tags": []
          },
          "execution_count": 44
        }
      ]
    },
    {
      "cell_type": "code",
      "metadata": {
        "id": "e405c676",
        "outputId": "986e9d02-e8d0-45f8-a759-81cff952c53a"
      },
      "source": [
        "seq.count(1)"
      ],
      "id": "e405c676",
      "execution_count": null,
      "outputs": [
        {
          "output_type": "execute_result",
          "data": {
            "text/plain": [
              "5"
            ]
          },
          "metadata": {
            "tags": []
          },
          "execution_count": 45
        }
      ]
    },
    {
      "cell_type": "code",
      "metadata": {
        "id": "814ba29c"
      },
      "source": [
        "a = max(seq, key = seq.count)"
      ],
      "id": "814ba29c",
      "execution_count": null,
      "outputs": []
    },
    {
      "cell_type": "code",
      "metadata": {
        "id": "12e2ee9e"
      },
      "source": [
        "b = seq.count(max(seq, key = seq.count))"
      ],
      "id": "12e2ee9e",
      "execution_count": null,
      "outputs": []
    },
    {
      "cell_type": "code",
      "metadata": {
        "id": "c5e21bd1",
        "outputId": "7e3287f9-9d66-465b-d2aa-e528c924bee2"
      },
      "source": [
        "print(\"En çok tekrar eden {} sayısıdır ve {} kere tekrar etmiştir.\".format(a,b))"
      ],
      "id": "c5e21bd1",
      "execution_count": null,
      "outputs": [
        {
          "output_type": "stream",
          "text": [
            "En çok tekrar eden 1 sayısıdır ve 5 kere tekrar etmiştir.\n"
          ],
          "name": "stdout"
        }
      ]
    },
    {
      "cell_type": "code",
      "metadata": {
        "id": "4a4aec79"
      },
      "source": [
        "left = {\"q\", \"w\", \"e\", \"r\", \"t\", \"a\", \"s\", \"d\", \"f\", \"g\", \"z\", \"x\", \"c\", \"v\", \"b\"}\n",
        "right = {\"y\", \"u\", \"i\", \"o\", \"p\", \"h\", \"j\", \"k\", \"l\", \"n\", \"m\"}\n",
        "word = \"test\""
      ],
      "id": "4a4aec79",
      "execution_count": null,
      "outputs": []
    },
    {
      "cell_type": "code",
      "metadata": {
        "id": "7925d0d2"
      },
      "source": [
        "word = \"clarusway\""
      ],
      "id": "7925d0d2",
      "execution_count": null,
      "outputs": []
    },
    {
      "cell_type": "code",
      "metadata": {
        "id": "56a6eaf3",
        "outputId": "d45dc560-ef16-43ab-e161-e035bfd53a85"
      },
      "source": [
        "word = input(\"give me a word please :\")"
      ],
      "id": "56a6eaf3",
      "execution_count": null,
      "outputs": [
        {
          "output_type": "stream",
          "text": [
            "give me a word please :clarusway\n"
          ],
          "name": "stdout"
        }
      ]
    },
    {
      "cell_type": "code",
      "metadata": {
        "id": "b002a46e",
        "outputId": "9971a833-03b1-4952-cf96-1a19879ee54d"
      },
      "source": [
        "set_word = set(word)\n",
        "set_word"
      ],
      "id": "b002a46e",
      "execution_count": null,
      "outputs": [
        {
          "output_type": "execute_result",
          "data": {
            "text/plain": [
              "{'a', 'c', 'l', 'r', 's', 'u', 'w', 'y'}"
            ]
          },
          "metadata": {
            "tags": []
          },
          "execution_count": 66
        }
      ]
    },
    {
      "cell_type": "code",
      "metadata": {
        "id": "640b6580",
        "outputId": "0d736d81-b060-47dd-bb0b-9d95c18ff547"
      },
      "source": [
        "set_word - left"
      ],
      "id": "640b6580",
      "execution_count": null,
      "outputs": [
        {
          "output_type": "execute_result",
          "data": {
            "text/plain": [
              "{'l', 'u', 'y'}"
            ]
          },
          "metadata": {
            "tags": []
          },
          "execution_count": 67
        }
      ]
    },
    {
      "cell_type": "code",
      "metadata": {
        "id": "c8df84fc",
        "outputId": "82f74c20-7285-4fb6-c7ed-fd63063c85ca"
      },
      "source": [
        "set_word - right"
      ],
      "id": "c8df84fc",
      "execution_count": null,
      "outputs": [
        {
          "output_type": "execute_result",
          "data": {
            "text/plain": [
              "{'a', 'c', 'r', 's', 'w'}"
            ]
          },
          "metadata": {
            "tags": []
          },
          "execution_count": 68
        }
      ]
    },
    {
      "cell_type": "code",
      "metadata": {
        "id": "d16c8aa9",
        "outputId": "77dcf507-4838-42b1-f5ce-f9377222bde6"
      },
      "source": [
        "left_bool = bool(set_word - left)\n",
        "left_bool"
      ],
      "id": "d16c8aa9",
      "execution_count": null,
      "outputs": [
        {
          "output_type": "execute_result",
          "data": {
            "text/plain": [
              "True"
            ]
          },
          "metadata": {
            "tags": []
          },
          "execution_count": 69
        }
      ]
    },
    {
      "cell_type": "code",
      "metadata": {
        "id": "1c6d0b2c",
        "outputId": "8b97139b-3c01-4e6b-e1cf-18a88feb24ea"
      },
      "source": [
        "right_bool = bool(set_word - right)\n",
        "right_bool"
      ],
      "id": "1c6d0b2c",
      "execution_count": null,
      "outputs": [
        {
          "output_type": "execute_result",
          "data": {
            "text/plain": [
              "True"
            ]
          },
          "metadata": {
            "tags": []
          },
          "execution_count": 70
        }
      ]
    },
    {
      "cell_type": "code",
      "metadata": {
        "id": "86caa020",
        "outputId": "763fcad9-735e-48e2-db8a-3010b4d5ad78"
      },
      "source": [
        "left_bool and right_bool"
      ],
      "id": "86caa020",
      "execution_count": null,
      "outputs": [
        {
          "output_type": "execute_result",
          "data": {
            "text/plain": [
              "True"
            ]
          },
          "metadata": {
            "tags": []
          },
          "execution_count": 64
        }
      ]
    },
    {
      "cell_type": "code",
      "metadata": {
        "id": "fb4faf60"
      },
      "source": [
        ""
      ],
      "id": "fb4faf60",
      "execution_count": null,
      "outputs": []
    },
    {
      "cell_type": "code",
      "metadata": {
        "id": "b7fa6653"
      },
      "source": [
        ""
      ],
      "id": "b7fa6653",
      "execution_count": null,
      "outputs": []
    }
  ]
}