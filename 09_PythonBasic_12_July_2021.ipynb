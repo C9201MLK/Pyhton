{
  "nbformat": 4,
  "nbformat_minor": 5,
  "metadata": {
    "kernelspec": {
      "display_name": "Python 3",
      "language": "python",
      "name": "python3"
    },
    "language_info": {
      "codemirror_mode": {
        "name": "ipython",
        "version": 3
      },
      "file_extension": ".py",
      "mimetype": "text/x-python",
      "name": "python",
      "nbconvert_exporter": "python",
      "pygments_lexer": "ipython3",
      "version": "3.8.8"
    },
    "colab": {
      "name": "09_PythonBasic_12-July-2021.ipynb",
      "provenance": [],
      "include_colab_link": true
    }
  },
  "cells": [
    {
      "cell_type": "markdown",
      "metadata": {
        "id": "view-in-github",
        "colab_type": "text"
      },
      "source": [
        "<a href=\"https://colab.research.google.com/github/C9201MLK/Pyhton/blob/main/09_PythonBasic_12_July_2021.ipynb\" target=\"_parent\"><img src=\"https://colab.research.google.com/assets/colab-badge.svg\" alt=\"Open In Colab\"/></a>"
      ]
    },
    {
      "cell_type": "markdown",
      "metadata": {
        "id": "406f2981"
      },
      "source": [
        "<img src=\"https://docs.google.com/uc?id=14xeXxFrVRjvOoUYWn_GuyE-v84wVzrqr\" class=\"img-fluid\" alt=\"CLRWY\" width=\"400\" height=\"200\">"
      ],
      "id": "406f2981"
    },
    {
      "cell_type": "markdown",
      "metadata": {
        "id": "22263af8"
      },
      "source": [
        "<h1><p style=\"text-align: center; color:darkblue\">Python In-Class, <br>12 July 2021</p><h1>"
      ],
      "id": "22263af8"
    },
    {
      "cell_type": "code",
      "metadata": {
        "id": "18aaad53"
      },
      "source": [
        "letter = \"a b c d e f g h i j l k m n o p q r s t x w v z\".split()"
      ],
      "id": "18aaad53",
      "execution_count": null,
      "outputs": []
    },
    {
      "cell_type": "code",
      "metadata": {
        "id": "acf8bec2",
        "outputId": "f625db70-e44f-44b5-d485-7ab833bc85ca"
      },
      "source": [
        "print(letter)"
      ],
      "id": "acf8bec2",
      "execution_count": null,
      "outputs": [
        {
          "output_type": "stream",
          "text": [
            "['a', 'b', 'c', 'd', 'e', 'f', 'g', 'h', 'i', 'j', 'l', 'k', 'm', 'n', 'o', 'p', 'q', 'r', 's', 't', 'x', 'w', 'v', 'z']\n"
          ],
          "name": "stdout"
        }
      ]
    },
    {
      "cell_type": "code",
      "metadata": {
        "id": "6134d71b",
        "outputId": "17cf35ab-858a-47ca-fadd-bd4a8af4dcf7"
      },
      "source": [
        "print(set(letter))"
      ],
      "id": "6134d71b",
      "execution_count": null,
      "outputs": [
        {
          "output_type": "stream",
          "text": [
            "{'v', 'k', 'x', 'm', 'w', 'd', 'h', 'j', 'g', 'e', 'c', 'b', 'n', 'r', 'o', 'f', 'i', 'p', 's', 'z', 't', 'a', 'q', 'l'}\n"
          ],
          "name": "stdout"
        }
      ]
    },
    {
      "cell_type": "code",
      "metadata": {
        "id": "9d304d28"
      },
      "source": [
        "test = {1, \"bir\", 1.0}"
      ],
      "id": "9d304d28",
      "execution_count": null,
      "outputs": []
    },
    {
      "cell_type": "code",
      "metadata": {
        "id": "2f0a4435",
        "outputId": "723cb0c0-30a9-4193-d133-5ee905d84057"
      },
      "source": [
        "len(test)"
      ],
      "id": "2f0a4435",
      "execution_count": null,
      "outputs": [
        {
          "output_type": "execute_result",
          "data": {
            "text/plain": [
              "2"
            ]
          },
          "metadata": {
            "tags": []
          },
          "execution_count": 6
        }
      ]
    },
    {
      "cell_type": "code",
      "metadata": {
        "id": "e592c182",
        "outputId": "3f5871ed-b760-49a8-bbb4-af2ac6537017"
      },
      "source": [
        "1 == 1.0"
      ],
      "id": "e592c182",
      "execution_count": null,
      "outputs": [
        {
          "output_type": "execute_result",
          "data": {
            "text/plain": [
              "True"
            ]
          },
          "metadata": {
            "tags": []
          },
          "execution_count": 7
        }
      ]
    },
    {
      "cell_type": "code",
      "metadata": {
        "id": "665f3343",
        "outputId": "330f86d4-4e0c-457c-8b89-9d0f6b79fac2"
      },
      "source": [
        "type({})"
      ],
      "id": "665f3343",
      "execution_count": null,
      "outputs": [
        {
          "output_type": "execute_result",
          "data": {
            "text/plain": [
              "dict"
            ]
          },
          "metadata": {
            "tags": []
          },
          "execution_count": 8
        }
      ]
    },
    {
      "cell_type": "code",
      "metadata": {
        "id": "41f9df26",
        "outputId": "72bf785e-4a86-4a53-9fb9-73136e1c3cab"
      },
      "source": [
        "type(set())"
      ],
      "id": "41f9df26",
      "execution_count": null,
      "outputs": [
        {
          "output_type": "execute_result",
          "data": {
            "text/plain": [
              "set"
            ]
          },
          "metadata": {
            "tags": []
          },
          "execution_count": 9
        }
      ]
    },
    {
      "cell_type": "code",
      "metadata": {
        "id": "9d08cff0"
      },
      "source": [
        "a = {'carnation', 'orchid', 'rose', 'violet'} \n",
        "b = {'rose', 'orchid', 'rose', 'violet', 'carnation'} "
      ],
      "id": "9d08cff0",
      "execution_count": null,
      "outputs": []
    },
    {
      "cell_type": "code",
      "metadata": {
        "id": "ae6909d7",
        "outputId": "0c23df3e-0b78-4ed6-d378-917e21dfcb3d"
      },
      "source": [
        "a == b"
      ],
      "id": "ae6909d7",
      "execution_count": null,
      "outputs": [
        {
          "output_type": "execute_result",
          "data": {
            "text/plain": [
              "True"
            ]
          },
          "metadata": {
            "tags": []
          },
          "execution_count": 11
        }
      ]
    },
    {
      "cell_type": "code",
      "metadata": {
        "id": "13a1691a"
      },
      "source": [
        "date = \"12/07/2021\""
      ],
      "id": "13a1691a",
      "execution_count": null,
      "outputs": []
    },
    {
      "cell_type": "code",
      "metadata": {
        "id": "c8cc4b07",
        "outputId": "9fe227e7-3459-4ceb-d0b7-6e2a197db66c"
      },
      "source": [
        "set(date)"
      ],
      "id": "c8cc4b07",
      "execution_count": null,
      "outputs": [
        {
          "output_type": "execute_result",
          "data": {
            "text/plain": [
              "{'/', '0', '1', '2', '7'}"
            ]
          },
          "metadata": {
            "tags": []
          },
          "execution_count": 13
        }
      ]
    },
    {
      "cell_type": "code",
      "metadata": {
        "id": "94230c05"
      },
      "source": [
        "given_list = [1, 2, 3, 3, 3, 3, 4, 4, 5, 5]"
      ],
      "id": "94230c05",
      "execution_count": null,
      "outputs": []
    },
    {
      "cell_type": "code",
      "metadata": {
        "id": "47633a53",
        "outputId": "691ba0b4-e6cb-494a-b5c1-07cddd36f4f8"
      },
      "source": [
        "test = {given_list}\n",
        "test"
      ],
      "id": "47633a53",
      "execution_count": null,
      "outputs": [
        {
          "output_type": "error",
          "ename": "TypeError",
          "evalue": "unhashable type: 'list'",
          "traceback": [
            "\u001b[0;31m---------------------------------------------------------------------------\u001b[0m",
            "\u001b[0;31mTypeError\u001b[0m                                 Traceback (most recent call last)",
            "\u001b[0;32m<ipython-input-15-3ff49a56a7ac>\u001b[0m in \u001b[0;36m<module>\u001b[0;34m\u001b[0m\n\u001b[0;32m----> 1\u001b[0;31m \u001b[0mtest\u001b[0m \u001b[0;34m=\u001b[0m \u001b[0;34m{\u001b[0m\u001b[0mgiven_list\u001b[0m\u001b[0;34m}\u001b[0m\u001b[0;34m\u001b[0m\u001b[0;34m\u001b[0m\u001b[0m\n\u001b[0m\u001b[1;32m      2\u001b[0m \u001b[0mtest\u001b[0m\u001b[0;34m\u001b[0m\u001b[0;34m\u001b[0m\u001b[0m\n",
            "\u001b[0;31mTypeError\u001b[0m: unhashable type: 'list'"
          ]
        }
      ]
    },
    {
      "cell_type": "code",
      "metadata": {
        "id": "949ebc34",
        "outputId": "e7fdb3cb-8bd7-4c16-a70c-b1ad07900c37"
      },
      "source": [
        "test = {1, 2, 3, 3, 3, 3, 4, 4, 5, 5}\n",
        "test"
      ],
      "id": "949ebc34",
      "execution_count": null,
      "outputs": [
        {
          "output_type": "execute_result",
          "data": {
            "text/plain": [
              "{1, 2, 3, 4, 5}"
            ]
          },
          "metadata": {
            "tags": []
          },
          "execution_count": 16
        }
      ]
    },
    {
      "cell_type": "code",
      "metadata": {
        "id": "60cdda18",
        "outputId": "150a94b6-9042-41d2-d2da-dd46946e6912"
      },
      "source": [
        "karışık = {[1,2,3], {1:\"bir\"}, (\"iki\", \"üç\")}"
      ],
      "id": "60cdda18",
      "execution_count": null,
      "outputs": [
        {
          "output_type": "error",
          "ename": "TypeError",
          "evalue": "unhashable type: 'list'",
          "traceback": [
            "\u001b[0;31m---------------------------------------------------------------------------\u001b[0m",
            "\u001b[0;31mTypeError\u001b[0m                                 Traceback (most recent call last)",
            "\u001b[0;32m<ipython-input-17-8fe641c509c0>\u001b[0m in \u001b[0;36m<module>\u001b[0;34m\u001b[0m\n\u001b[0;32m----> 1\u001b[0;31m \u001b[0mkarışık\u001b[0m \u001b[0;34m=\u001b[0m \u001b[0;34m{\u001b[0m\u001b[0;34m[\u001b[0m\u001b[0;36m1\u001b[0m\u001b[0;34m,\u001b[0m\u001b[0;36m2\u001b[0m\u001b[0;34m,\u001b[0m\u001b[0;36m3\u001b[0m\u001b[0;34m]\u001b[0m\u001b[0;34m,\u001b[0m \u001b[0;34m{\u001b[0m\u001b[0;36m1\u001b[0m\u001b[0;34m:\u001b[0m\u001b[0;34m\"bir\"\u001b[0m\u001b[0;34m}\u001b[0m\u001b[0;34m,\u001b[0m \u001b[0;34m(\u001b[0m\u001b[0;34m\"iki\"\u001b[0m\u001b[0;34m,\u001b[0m \u001b[0;34m\"üç\"\u001b[0m\u001b[0;34m)\u001b[0m\u001b[0;34m}\u001b[0m\u001b[0;34m\u001b[0m\u001b[0;34m\u001b[0m\u001b[0m\n\u001b[0m",
            "\u001b[0;31mTypeError\u001b[0m: unhashable type: 'list'"
          ]
        }
      ]
    },
    {
      "cell_type": "code",
      "metadata": {
        "id": "5f0f539a",
        "outputId": "10d0cb88-b4d3-4ba8-e58a-334a41680a9c"
      },
      "source": [
        "mix = {1,2, {3,4}}"
      ],
      "id": "5f0f539a",
      "execution_count": null,
      "outputs": [
        {
          "output_type": "error",
          "ename": "TypeError",
          "evalue": "unhashable type: 'set'",
          "traceback": [
            "\u001b[0;31m---------------------------------------------------------------------------\u001b[0m",
            "\u001b[0;31mTypeError\u001b[0m                                 Traceback (most recent call last)",
            "\u001b[0;32m<ipython-input-18-68777fddf235>\u001b[0m in \u001b[0;36m<module>\u001b[0;34m\u001b[0m\n\u001b[0;32m----> 1\u001b[0;31m \u001b[0mmix\u001b[0m \u001b[0;34m=\u001b[0m \u001b[0;34m{\u001b[0m\u001b[0;36m1\u001b[0m\u001b[0;34m,\u001b[0m\u001b[0;36m2\u001b[0m\u001b[0;34m,\u001b[0m \u001b[0;34m{\u001b[0m\u001b[0;36m3\u001b[0m\u001b[0;34m,\u001b[0m\u001b[0;36m4\u001b[0m\u001b[0;34m}\u001b[0m\u001b[0;34m}\u001b[0m\u001b[0;34m\u001b[0m\u001b[0;34m\u001b[0m\u001b[0m\n\u001b[0m",
            "\u001b[0;31mTypeError\u001b[0m: unhashable type: 'set'"
          ]
        }
      ]
    },
    {
      "cell_type": "code",
      "metadata": {
        "id": "6058c73d"
      },
      "source": [
        "print(\"ben clarusway için en az bir kişi bulacağım.\")"
      ],
      "id": "6058c73d",
      "execution_count": null,
      "outputs": []
    },
    {
      "cell_type": "code",
      "metadata": {
        "id": "7e2b24a1",
        "outputId": "83b18293-a487-409b-e99a-8ba9e4a350e4"
      },
      "source": [
        "if \"0\" :\n",
        "    print(\"hello world\")"
      ],
      "id": "7e2b24a1",
      "execution_count": null,
      "outputs": [
        {
          "output_type": "stream",
          "text": [
            "hello world\n"
          ],
          "name": "stdout"
        }
      ]
    },
    {
      "cell_type": "code",
      "metadata": {
        "id": "46c49598"
      },
      "source": [
        "if 0 :\n",
        "    print(\"beni görebilecek misiniz?\")"
      ],
      "id": "46c49598",
      "execution_count": null,
      "outputs": []
    },
    {
      "cell_type": "markdown",
      "metadata": {
        "id": "0d16337e"
      },
      "source": [
        "```python\n",
        "None\n",
        "[]\n",
        "()\n",
        "\"\"\n",
        "0\n",
        "0.0\n",
        "0j\n",
        "{}\n",
        "```"
      ],
      "id": "0d16337e"
    },
    {
      "cell_type": "code",
      "metadata": {
        "id": "72bf41ca",
        "outputId": "ddcb20f0-ce42-4434-8bcf-ecb477047960"
      },
      "source": [
        "if 1 :\n",
        "    print(\"bu çalışır\")"
      ],
      "id": "72bf41ca",
      "execution_count": null,
      "outputs": [
        {
          "output_type": "stream",
          "text": [
            "bu çalışır\n"
          ],
          "name": "stdout"
        }
      ]
    },
    {
      "cell_type": "code",
      "metadata": {
        "id": "53461a69"
      },
      "source": [
        "minced = True\n",
        "bread = True\n",
        "#green\n",
        "lettuce = True\n",
        "onion = True\n",
        "grocer = True"
      ],
      "id": "53461a69",
      "execution_count": null,
      "outputs": []
    },
    {
      "cell_type": "code",
      "metadata": {
        "id": "8963b030"
      },
      "source": [
        "hamburger = (minced and grocer and bread) and (lettuce or onion)"
      ],
      "id": "8963b030",
      "execution_count": null,
      "outputs": []
    },
    {
      "cell_type": "code",
      "metadata": {
        "id": "2ed5fa3b",
        "outputId": "0856f0aa-44ba-44f1-8b6b-608e5a6e0121"
      },
      "source": [
        "if hamburger :\n",
        "    print(\"Bon Appetit!\")"
      ],
      "id": "2ed5fa3b",
      "execution_count": null,
      "outputs": [
        {
          "output_type": "stream",
          "text": [
            "Bon Appetit!\n"
          ],
          "name": "stdout"
        }
      ]
    },
    {
      "cell_type": "code",
      "metadata": {
        "id": "81bdeb11",
        "outputId": "3311c0bf-ee30-4316-9c91-4a5a879b0303"
      },
      "source": [
        "\"a\" < \"b\""
      ],
      "id": "81bdeb11",
      "execution_count": null,
      "outputs": [
        {
          "output_type": "execute_result",
          "data": {
            "text/plain": [
              "True"
            ]
          },
          "metadata": {
            "tags": []
          },
          "execution_count": 26
        }
      ]
    },
    {
      "cell_type": "code",
      "metadata": {
        "id": "5bdacd1f",
        "outputId": "98412080-5a3d-4302-c192-2850d32dee5e"
      },
      "source": [
        "\"4\" < \"39\""
      ],
      "id": "5bdacd1f",
      "execution_count": null,
      "outputs": [
        {
          "output_type": "execute_result",
          "data": {
            "text/plain": [
              "False"
            ]
          },
          "metadata": {
            "tags": []
          },
          "execution_count": 27
        }
      ]
    },
    {
      "cell_type": "code",
      "metadata": {
        "id": "85e2d168",
        "outputId": "49f6abef-3682-41f0-ea3a-ee8a87c52de3"
      },
      "source": [
        "ord(\"4\")"
      ],
      "id": "85e2d168",
      "execution_count": null,
      "outputs": [
        {
          "output_type": "execute_result",
          "data": {
            "text/plain": [
              "52"
            ]
          },
          "metadata": {
            "tags": []
          },
          "execution_count": 28
        }
      ]
    },
    {
      "cell_type": "code",
      "metadata": {
        "id": "598bc0f1",
        "outputId": "1dd0d851-4646-4874-bddd-df18510d6dcb"
      },
      "source": [
        "ord(\"3\")"
      ],
      "id": "598bc0f1",
      "execution_count": null,
      "outputs": [
        {
          "output_type": "execute_result",
          "data": {
            "text/plain": [
              "51"
            ]
          },
          "metadata": {
            "tags": []
          },
          "execution_count": 29
        }
      ]
    },
    {
      "cell_type": "code",
      "metadata": {
        "id": "7051c039",
        "outputId": "604ed280-99ae-4bc9-ebff-546b9784f97a"
      },
      "source": [
        "1 and 2 and 3"
      ],
      "id": "7051c039",
      "execution_count": null,
      "outputs": [
        {
          "output_type": "execute_result",
          "data": {
            "text/plain": [
              "3"
            ]
          },
          "metadata": {
            "tags": []
          },
          "execution_count": 30
        }
      ]
    },
    {
      "cell_type": "code",
      "metadata": {
        "id": "caa463e6",
        "outputId": "7673f4dd-8a8e-4fe1-8272-f4d54803dfeb"
      },
      "source": [
        "2 >= 2"
      ],
      "id": "caa463e6",
      "execution_count": null,
      "outputs": [
        {
          "output_type": "execute_result",
          "data": {
            "text/plain": [
              "True"
            ]
          },
          "metadata": {
            "tags": []
          },
          "execution_count": 31
        }
      ]
    },
    {
      "cell_type": "code",
      "metadata": {
        "id": "50707354"
      },
      "source": [
        "a = set(\"TWELVE PLUS ONE\")\n",
        "b = set(\"ELEVEN PLUS TWO\")"
      ],
      "id": "50707354",
      "execution_count": null,
      "outputs": []
    },
    {
      "cell_type": "code",
      "metadata": {
        "id": "499e1570",
        "outputId": "6c3e7bbd-6013-4931-fd4b-b42c8df9ad32"
      },
      "source": [
        "a"
      ],
      "id": "499e1570",
      "execution_count": null,
      "outputs": [
        {
          "output_type": "execute_result",
          "data": {
            "text/plain": [
              "{' ', 'E', 'L', 'N', 'O', 'P', 'S', 'T', 'U', 'V', 'W'}"
            ]
          },
          "metadata": {
            "tags": []
          },
          "execution_count": 35
        }
      ]
    },
    {
      "cell_type": "code",
      "metadata": {
        "id": "f656dd2e",
        "outputId": "3266a67c-fa8f-4d87-f0e3-c117fdb10f47"
      },
      "source": [
        "b"
      ],
      "id": "f656dd2e",
      "execution_count": null,
      "outputs": [
        {
          "output_type": "execute_result",
          "data": {
            "text/plain": [
              "{' ', 'E', 'L', 'N', 'O', 'P', 'S', 'T', 'U', 'V', 'W'}"
            ]
          },
          "metadata": {
            "tags": []
          },
          "execution_count": 36
        }
      ]
    },
    {
      "cell_type": "code",
      "metadata": {
        "id": "c8db7206",
        "outputId": "909b9d23-582f-4d79-d39a-173e0d68fc8a"
      },
      "source": [
        "a == b"
      ],
      "id": "c8db7206",
      "execution_count": null,
      "outputs": [
        {
          "output_type": "execute_result",
          "data": {
            "text/plain": [
              "True"
            ]
          },
          "metadata": {
            "tags": []
          },
          "execution_count": 37
        }
      ]
    },
    {
      "cell_type": "code",
      "metadata": {
        "id": "3f2c5328",
        "outputId": "9b744a31-9baa-4533-a41a-656ec0b0f2a7"
      },
      "source": [
        "convert = input(\"Enter yes or no : \").title().strip() == \"Yes\""
      ],
      "id": "3f2c5328",
      "execution_count": null,
      "outputs": [
        {
          "output_type": "stream",
          "text": [
            "Enter yes or no : no\n"
          ],
          "name": "stdout"
        }
      ]
    },
    {
      "cell_type": "code",
      "metadata": {
        "id": "29f0c3d7",
        "outputId": "05527910-341c-4805-a8e1-9be7a6e50dae"
      },
      "source": [
        "print(type(convert))\n",
        "print(convert)"
      ],
      "id": "29f0c3d7",
      "execution_count": null,
      "outputs": [
        {
          "output_type": "stream",
          "text": [
            "<class 'bool'>\n",
            "False\n"
          ],
          "name": "stdout"
        }
      ]
    },
    {
      "cell_type": "code",
      "metadata": {
        "id": "d97298d4",
        "outputId": "9b5e78a2-d365-45d9-cd0f-b72d3cf35909"
      },
      "source": [
        "print(\"You entered\", convert)"
      ],
      "id": "d97298d4",
      "execution_count": null,
      "outputs": [
        {
          "output_type": "stream",
          "text": [
            "You entered False\n"
          ],
          "name": "stdout"
        }
      ]
    },
    {
      "cell_type": "code",
      "metadata": {
        "id": "e835b31e",
        "outputId": "7c45a03c-1fa4-450f-acf8-2906ebf4af3c"
      },
      "source": [
        "num = int(input(\"Enter a number please : \"))\n",
        "\n",
        "if num % 2 == 0 :\n",
        "    print(\"Girmiş olduğunuz sayı ({}) Çifttir.\".format(num))\n",
        "    \n",
        "else:\n",
        "    print(\"Girmiş olduğunuz sayı ({}) Tektir.\".format(num))"
      ],
      "id": "e835b31e",
      "execution_count": null,
      "outputs": [
        {
          "output_type": "stream",
          "text": [
            "Enter a number please : 5\n",
            "Girmiş olduğunuz sayı (5) Tektir.\n"
          ],
          "name": "stdout"
        }
      ]
    },
    {
      "cell_type": "code",
      "metadata": {
        "id": "40a80b43"
      },
      "source": [
        ""
      ],
      "id": "40a80b43",
      "execution_count": null,
      "outputs": []
    },
    {
      "cell_type": "code",
      "metadata": {
        "id": "b9f3420c"
      },
      "source": [
        ""
      ],
      "id": "b9f3420c",
      "execution_count": null,
      "outputs": []
    },
    {
      "cell_type": "code",
      "metadata": {
        "id": "f95a71b9"
      },
      "source": [
        ""
      ],
      "id": "f95a71b9",
      "execution_count": null,
      "outputs": []
    },
    {
      "cell_type": "code",
      "metadata": {
        "id": "159ec541"
      },
      "source": [
        ""
      ],
      "id": "159ec541",
      "execution_count": null,
      "outputs": []
    },
    {
      "cell_type": "code",
      "metadata": {
        "id": "7103573d"
      },
      "source": [
        ""
      ],
      "id": "7103573d",
      "execution_count": null,
      "outputs": []
    }
  ]
}