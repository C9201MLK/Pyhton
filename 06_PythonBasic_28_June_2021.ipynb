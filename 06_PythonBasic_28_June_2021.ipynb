{
  "nbformat": 4,
  "nbformat_minor": 5,
  "metadata": {
    "kernelspec": {
      "display_name": "Python 3",
      "language": "python",
      "name": "python3"
    },
    "language_info": {
      "codemirror_mode": {
        "name": "ipython",
        "version": 3
      },
      "file_extension": ".py",
      "mimetype": "text/x-python",
      "name": "python",
      "nbconvert_exporter": "python",
      "pygments_lexer": "ipython3",
      "version": "3.8.8"
    },
    "colab": {
      "name": "06_PythonBasic_28-June-2021.ipynb",
      "provenance": [],
      "include_colab_link": true
    }
  },
  "cells": [
    {
      "cell_type": "markdown",
      "metadata": {
        "id": "view-in-github",
        "colab_type": "text"
      },
      "source": [
        "<a href=\"https://colab.research.google.com/github/C9201MLK/Pyhton/blob/main/06_PythonBasic_28_June_2021.ipynb\" target=\"_parent\"><img src=\"https://colab.research.google.com/assets/colab-badge.svg\" alt=\"Open In Colab\"/></a>"
      ]
    },
    {
      "cell_type": "markdown",
      "metadata": {
        "id": "406f2981"
      },
      "source": [
        "<img src=\"https://docs.google.com/uc?id=14xeXxFrVRjvOoUYWn_GuyE-v84wVzrqr\" class=\"img-fluid\" alt=\"CLRWY\" width=\"400\" height=\"200\">"
      ],
      "id": "406f2981"
    },
    {
      "cell_type": "markdown",
      "metadata": {
        "id": "22263af8"
      },
      "source": [
        "<h1><p style=\"text-align: center; color:darkblue\">Python In-Class, <br>28 June 2021</p><h1>"
      ],
      "id": "22263af8"
    },
    {
      "cell_type": "code",
      "metadata": {
        "id": "78b85bb5",
        "outputId": "5615765b-dbd9-474a-ea46-31837fe3f9bf"
      },
      "source": [
        "a = 1\n",
        "\n",
        "print(-a)"
      ],
      "id": "78b85bb5",
      "execution_count": null,
      "outputs": [
        {
          "output_type": "stream",
          "text": [
            "-1\n"
          ],
          "name": "stdout"
        }
      ]
    },
    {
      "cell_type": "code",
      "metadata": {
        "id": "0e30ed56",
        "outputId": "49dfb230-9c5e-4a05-d379-d2f42c227e1a"
      },
      "source": [
        "b = -11\n",
        "\n",
        "print(-b)"
      ],
      "id": "0e30ed56",
      "execution_count": null,
      "outputs": [
        {
          "output_type": "stream",
          "text": [
            "11\n"
          ],
          "name": "stdout"
        }
      ]
    },
    {
      "cell_type": "code",
      "metadata": {
        "id": "52fa2fe2",
        "outputId": "15d5e700-b66b-4abc-fd7c-dbc3424a5372"
      },
      "source": [
        "a = 3\n",
        "b = 4\n",
        "\n",
        "print(\"The sum of {} + {} is : {}\".format(a, b, a+b))"
      ],
      "id": "52fa2fe2",
      "execution_count": null,
      "outputs": [
        {
          "output_type": "stream",
          "text": [
            "The sum of 3 + 4 is : 7\n"
          ],
          "name": "stdout"
        }
      ]
    },
    {
      "cell_type": "code",
      "metadata": {
        "id": "3bb363ac",
        "outputId": "dbc026c8-ed45-4290-d3b8-c552644e18fa"
      },
      "source": [
        "text = \"{:.2f}, {:.3f}, {:.4f}\".format(3.1463, 5.367, 7.324324)\n",
        "\n",
        "print(text)"
      ],
      "id": "3bb363ac",
      "execution_count": null,
      "outputs": [
        {
          "output_type": "stream",
          "text": [
            "3.15, 5.367, 7.3243\n"
          ],
          "name": "stdout"
        }
      ]
    },
    {
      "cell_type": "code",
      "metadata": {
        "id": "33faa22e",
        "outputId": "c0c9e707-8c7e-4ef1-91bc-91b1f5081b4c"
      },
      "source": [
        "text = \"{:.2s}, {:.3s}, {:.4s}\".format(\"a3.1463\", \"5.b367\", \"7.324324c\")\n",
        "\n",
        "print(text)"
      ],
      "id": "33faa22e",
      "execution_count": null,
      "outputs": [
        {
          "output_type": "stream",
          "text": [
            "a3, 5.b, 7.32\n"
          ],
          "name": "stdout"
        }
      ]
    },
    {
      "cell_type": "code",
      "metadata": {
        "id": "a60a2c36",
        "outputId": "86013c66-088c-4438-d03e-cc11cfe5ea8f"
      },
      "source": [
        "text = \"{:.2}, {:.3}, {:.4}\".format(\"a3.1463\", \"5.b367\", \"7.324324c\")\n",
        "\n",
        "print(text)"
      ],
      "id": "a60a2c36",
      "execution_count": null,
      "outputs": [
        {
          "output_type": "stream",
          "text": [
            "a3, 5.b, 7.32\n"
          ],
          "name": "stdout"
        }
      ]
    },
    {
      "cell_type": "code",
      "metadata": {
        "id": "3f1b0b3b",
        "outputId": "a8605a48-c631-4e1b-d1da-1cc38b5a05fa"
      },
      "source": [
        "text = \"{:>10}\".format(\"test\")\n",
        "\n",
        "text"
      ],
      "id": "3f1b0b3b",
      "execution_count": null,
      "outputs": [
        {
          "output_type": "execute_result",
          "data": {
            "text/plain": [
              "'      test'"
            ]
          },
          "metadata": {
            "tags": []
          },
          "execution_count": 10
        }
      ]
    },
    {
      "cell_type": "code",
      "metadata": {
        "id": "8c8bd2a3",
        "outputId": "9b2c7236-5e17-4a32-ebb9-10af3fc3817a"
      },
      "source": [
        "text = \"{:<10}\".format(\"test\")\n",
        "\n",
        "text"
      ],
      "id": "8c8bd2a3",
      "execution_count": null,
      "outputs": [
        {
          "output_type": "execute_result",
          "data": {
            "text/plain": [
              "'test      '"
            ]
          },
          "metadata": {
            "tags": []
          },
          "execution_count": 11
        }
      ]
    },
    {
      "cell_type": "code",
      "metadata": {
        "id": "a6b11f89",
        "outputId": "689543d7-3326-4d9a-9baa-c790b053382d"
      },
      "source": [
        "text = \"formatlama satırı {:>20} bu da textin sonu\".format(\"test\")\n",
        "text"
      ],
      "id": "a6b11f89",
      "execution_count": null,
      "outputs": [
        {
          "output_type": "execute_result",
          "data": {
            "text/plain": [
              "'formatlama satırı                 test bu da textin sonu'"
            ]
          },
          "metadata": {
            "tags": []
          },
          "execution_count": 13
        }
      ]
    },
    {
      "cell_type": "code",
      "metadata": {
        "id": "5c7c4cde",
        "outputId": "0a0dff6f-c4a8-4717-91e8-4e6d5622d7fb"
      },
      "source": [
        "text = \"bla bla {:<15} formatlama cümleciği\".format(\"ökkeş\")\n",
        "text"
      ],
      "id": "5c7c4cde",
      "execution_count": null,
      "outputs": [
        {
          "output_type": "execute_result",
          "data": {
            "text/plain": [
              "'bla bla ökkeş           formatlama cümleciği'"
            ]
          },
          "metadata": {
            "tags": []
          },
          "execution_count": 15
        }
      ]
    },
    {
      "cell_type": "code",
      "metadata": {
        "id": "fa87c989",
        "outputId": "85f7967e-0f10-4b57-81c3-497f640d69b4"
      },
      "source": [
        "text = \"{:^20}\".format(\"abc\")\n",
        "text"
      ],
      "id": "fa87c989",
      "execution_count": null,
      "outputs": [
        {
          "output_type": "execute_result",
          "data": {
            "text/plain": [
              "'        abc         '"
            ]
          },
          "metadata": {
            "tags": []
          },
          "execution_count": 17
        }
      ]
    },
    {
      "cell_type": "code",
      "metadata": {
        "id": "aa6f9ffd",
        "outputId": "b8162414-dd19-48f6-d390-378ee37764de"
      },
      "source": [
        "\"{:10.5}\".format(\"hippopotamus\")"
      ],
      "id": "aa6f9ffd",
      "execution_count": null,
      "outputs": [
        {
          "output_type": "execute_result",
          "data": {
            "text/plain": [
              "'hippo     '"
            ]
          },
          "metadata": {
            "tags": []
          },
          "execution_count": 18
        }
      ]
    },
    {
      "cell_type": "code",
      "metadata": {
        "id": "0e575491",
        "outputId": "95b2eec6-a13a-489b-cc6e-12ee69676b24"
      },
      "source": [
        "\"{:>15.5}\".format(\"hippopotamus\")"
      ],
      "id": "0e575491",
      "execution_count": null,
      "outputs": [
        {
          "output_type": "execute_result",
          "data": {
            "text/plain": [
              "'          hippo'"
            ]
          },
          "metadata": {
            "tags": []
          },
          "execution_count": 19
        }
      ]
    },
    {
      "cell_type": "code",
      "metadata": {
        "id": "73259b3b",
        "outputId": "8a7ffcaa-7352-4c1c-cc3f-358f9d121eaa"
      },
      "source": [
        "\"{:+d}\".format(115)  # +115"
      ],
      "id": "73259b3b",
      "execution_count": null,
      "outputs": [
        {
          "output_type": "execute_result",
          "data": {
            "text/plain": [
              "'+115'"
            ]
          },
          "metadata": {
            "tags": []
          },
          "execution_count": 20
        }
      ]
    },
    {
      "cell_type": "code",
      "metadata": {
        "id": "aee07472",
        "outputId": "23bfb495-1a0e-4780-dd3b-f67c4874f80f"
      },
      "source": [
        "age = False\n",
        "chronic = False\n",
        "immune = False\n",
        "\n",
        "covid = age or chronic or immune\n",
        "\n",
        "covid"
      ],
      "id": "aee07472",
      "execution_count": null,
      "outputs": [
        {
          "output_type": "execute_result",
          "data": {
            "text/plain": [
              "False"
            ]
          },
          "metadata": {
            "tags": []
          },
          "execution_count": 22
        }
      ]
    },
    {
      "cell_type": "code",
      "metadata": {
        "id": "37810b3c"
      },
      "source": [
        "list_1 = ['h', 'a', 'p', 'p', 'y']\n",
        "word = 'happy'\n",
        "list_2 = list(word)"
      ],
      "id": "37810b3c",
      "execution_count": null,
      "outputs": []
    },
    {
      "cell_type": "code",
      "metadata": {
        "id": "21543ff9",
        "outputId": "746bd18a-1a04-4b02-8e3a-f88a49f26aaf"
      },
      "source": [
        "list_1"
      ],
      "id": "21543ff9",
      "execution_count": null,
      "outputs": [
        {
          "output_type": "execute_result",
          "data": {
            "text/plain": [
              "['h', 'a', 'p', 'p', 'y']"
            ]
          },
          "metadata": {
            "tags": []
          },
          "execution_count": 24
        }
      ]
    },
    {
      "cell_type": "code",
      "metadata": {
        "id": "537652da",
        "outputId": "8ede1a69-ab20-431f-f181-1a4fe20dc092"
      },
      "source": [
        "list_2"
      ],
      "id": "537652da",
      "execution_count": null,
      "outputs": [
        {
          "output_type": "execute_result",
          "data": {
            "text/plain": [
              "['h', 'a', 'p', 'p', 'y']"
            ]
          },
          "metadata": {
            "tags": []
          },
          "execution_count": 25
        }
      ]
    },
    {
      "cell_type": "code",
      "metadata": {
        "id": "ebb55d9d",
        "outputId": "31ad9e95-2fcf-4e0f-c4c4-eb459b8cf96c"
      },
      "source": [
        "list_3 = ['happy']\n",
        "list_3"
      ],
      "id": "ebb55d9d",
      "execution_count": null,
      "outputs": [
        {
          "output_type": "execute_result",
          "data": {
            "text/plain": [
              "['happy']"
            ]
          },
          "metadata": {
            "tags": []
          },
          "execution_count": 26
        }
      ]
    },
    {
      "cell_type": "code",
      "metadata": {
        "id": "720d7de9",
        "outputId": "4a991cf2-9684-4aaf-dada-98c704b5c5e6"
      },
      "source": [
        "type(list_3)"
      ],
      "id": "720d7de9",
      "execution_count": null,
      "outputs": [
        {
          "output_type": "execute_result",
          "data": {
            "text/plain": [
              "list"
            ]
          },
          "metadata": {
            "tags": []
          },
          "execution_count": 27
        }
      ]
    },
    {
      "cell_type": "code",
      "metadata": {
        "id": "3b7add9d"
      },
      "source": [
        "list_4 = [\"ben bu insanlara ders anlatınca gerçekten çok rehabilite oluyorum. dersi iple çekiyorum.\"]"
      ],
      "id": "3b7add9d",
      "execution_count": null,
      "outputs": []
    },
    {
      "cell_type": "code",
      "metadata": {
        "id": "c8e0dd8b",
        "outputId": "46aecc11-2468-4d93-ffa5-6b50bb5a1e3c"
      },
      "source": [
        "list_5 = list(list_3)\n",
        "\n",
        "list_5"
      ],
      "id": "c8e0dd8b",
      "execution_count": null,
      "outputs": [
        {
          "output_type": "execute_result",
          "data": {
            "text/plain": [
              "['happy']"
            ]
          },
          "metadata": {
            "tags": []
          },
          "execution_count": 29
        }
      ]
    },
    {
      "cell_type": "code",
      "metadata": {
        "id": "f2dad5a1",
        "outputId": "a730ad2d-3222-4995-bc9d-b186d190ee22"
      },
      "source": [
        "list_6 = list(list_2)\n",
        "\n",
        "list_6"
      ],
      "id": "f2dad5a1",
      "execution_count": null,
      "outputs": [
        {
          "output_type": "execute_result",
          "data": {
            "text/plain": [
              "['h', 'a', 'p', 'p', 'y']"
            ]
          },
          "metadata": {
            "tags": []
          },
          "execution_count": 30
        }
      ]
    },
    {
      "cell_type": "code",
      "metadata": {
        "id": "a71e4eac"
      },
      "source": [
        "a = [\"2'!*?- abc+&$#123=*/\"]"
      ],
      "id": "a71e4eac",
      "execution_count": null,
      "outputs": []
    },
    {
      "cell_type": "code",
      "metadata": {
        "id": "05de2211",
        "outputId": "9f6ebb00-45fe-4130-d56c-3afde741b513"
      },
      "source": [
        "len(a)"
      ],
      "id": "05de2211",
      "execution_count": null,
      "outputs": [
        {
          "output_type": "execute_result",
          "data": {
            "text/plain": [
              "1"
            ]
          },
          "metadata": {
            "tags": []
          },
          "execution_count": 32
        }
      ]
    },
    {
      "cell_type": "code",
      "metadata": {
        "id": "52fe5b53",
        "outputId": "d012b478-4f2c-43ef-c49c-2a77e1810162"
      },
      "source": [
        "b = list(\"2'!*?- abc+&$#123=*/\")\n",
        "len(b)"
      ],
      "id": "52fe5b53",
      "execution_count": null,
      "outputs": [
        {
          "output_type": "execute_result",
          "data": {
            "text/plain": [
              "20"
            ]
          },
          "metadata": {
            "tags": []
          },
          "execution_count": 33
        }
      ]
    },
    {
      "cell_type": "code",
      "metadata": {
        "id": "0a9ecd47"
      },
      "source": [
        "my_list = ['Joseph', 'Clarusway', 2020]\n",
        "new_list1 = list(my_list)  \n",
        "new_list2 = [my_list]  "
      ],
      "id": "0a9ecd47",
      "execution_count": null,
      "outputs": []
    },
    {
      "cell_type": "code",
      "metadata": {
        "id": "a12c2f6a",
        "outputId": "9b35cd46-5fa7-489e-d115-dc79478a4d51"
      },
      "source": [
        "new_list1"
      ],
      "id": "a12c2f6a",
      "execution_count": null,
      "outputs": [
        {
          "output_type": "execute_result",
          "data": {
            "text/plain": [
              "['Joseph', 'Clarusway', 2020]"
            ]
          },
          "metadata": {
            "tags": []
          },
          "execution_count": 35
        }
      ]
    },
    {
      "cell_type": "code",
      "metadata": {
        "id": "ba76ae6a",
        "outputId": "c03e2d6d-5756-48d5-969f-920dce94e6ca"
      },
      "source": [
        "new_list2"
      ],
      "id": "ba76ae6a",
      "execution_count": null,
      "outputs": [
        {
          "output_type": "execute_result",
          "data": {
            "text/plain": [
              "[['Joseph', 'Clarusway', 2020]]"
            ]
          },
          "metadata": {
            "tags": []
          },
          "execution_count": 36
        }
      ]
    },
    {
      "cell_type": "code",
      "metadata": {
        "id": "add4767e",
        "outputId": "b5f63397-edd8-4f21-d5e0-53eb973318b3"
      },
      "source": [
        "len(new_list2)"
      ],
      "id": "add4767e",
      "execution_count": null,
      "outputs": [
        {
          "output_type": "execute_result",
          "data": {
            "text/plain": [
              "1"
            ]
          },
          "metadata": {
            "tags": []
          },
          "execution_count": 37
        }
      ]
    },
    {
      "cell_type": "code",
      "metadata": {
        "id": "d018a2b3"
      },
      "source": [
        "x = [[1,2,3], [4,5,6]]"
      ],
      "id": "d018a2b3",
      "execution_count": null,
      "outputs": []
    },
    {
      "cell_type": "code",
      "metadata": {
        "id": "51beb293",
        "outputId": "4a9cd07c-a848-46c8-c944-2cb38758086f"
      },
      "source": [
        "len(x)"
      ],
      "id": "51beb293",
      "execution_count": null,
      "outputs": [
        {
          "output_type": "execute_result",
          "data": {
            "text/plain": [
              "2"
            ]
          },
          "metadata": {
            "tags": []
          },
          "execution_count": 39
        }
      ]
    },
    {
      "cell_type": "code",
      "metadata": {
        "id": "968c61c6",
        "outputId": "1369ddbb-1457-4605-9a66-a329a9cdabee"
      },
      "source": [
        "y = list(2020)\n",
        "len(y)"
      ],
      "id": "968c61c6",
      "execution_count": null,
      "outputs": [
        {
          "output_type": "error",
          "ename": "TypeError",
          "evalue": "'int' object is not iterable",
          "traceback": [
            "\u001b[0;31m---------------------------------------------------------------------------\u001b[0m",
            "\u001b[0;31mTypeError\u001b[0m                                 Traceback (most recent call last)",
            "\u001b[0;32m<ipython-input-40-e171d9ecc7c7>\u001b[0m in \u001b[0;36m<module>\u001b[0;34m\u001b[0m\n\u001b[0;32m----> 1\u001b[0;31m \u001b[0my\u001b[0m \u001b[0;34m=\u001b[0m \u001b[0mlist\u001b[0m\u001b[0;34m(\u001b[0m\u001b[0;36m2020\u001b[0m\u001b[0;34m)\u001b[0m\u001b[0;34m\u001b[0m\u001b[0;34m\u001b[0m\u001b[0m\n\u001b[0m\u001b[1;32m      2\u001b[0m \u001b[0mlen\u001b[0m\u001b[0;34m(\u001b[0m\u001b[0my\u001b[0m\u001b[0;34m)\u001b[0m\u001b[0;34m\u001b[0m\u001b[0;34m\u001b[0m\u001b[0m\n",
            "\u001b[0;31mTypeError\u001b[0m: 'int' object is not iterable"
          ]
        }
      ]
    },
    {
      "cell_type": "code",
      "metadata": {
        "id": "c18bd935",
        "outputId": "837b4dea-aa2d-4d73-bf34-68cf47a61a12"
      },
      "source": [
        "y = list(\"2020\")\n",
        "len(y)"
      ],
      "id": "c18bd935",
      "execution_count": null,
      "outputs": [
        {
          "output_type": "execute_result",
          "data": {
            "text/plain": [
              "4"
            ]
          },
          "metadata": {
            "tags": []
          },
          "execution_count": 41
        }
      ]
    },
    {
      "cell_type": "code",
      "metadata": {
        "id": "7926ab2d",
        "outputId": "ddc750f9-5509-4444-9ff3-f4e0c834ff13"
      },
      "source": [
        "y"
      ],
      "id": "7926ab2d",
      "execution_count": null,
      "outputs": [
        {
          "output_type": "execute_result",
          "data": {
            "text/plain": [
              "['2', '0', '2', '0']"
            ]
          },
          "metadata": {
            "tags": []
          },
          "execution_count": 42
        }
      ]
    },
    {
      "cell_type": "code",
      "metadata": {
        "id": "db6c2a45"
      },
      "source": [
        "yy = [\"ali\"]"
      ],
      "id": "db6c2a45",
      "execution_count": null,
      "outputs": []
    },
    {
      "cell_type": "code",
      "metadata": {
        "id": "eb8ab340",
        "outputId": "f3536fb5-cd95-4c2d-ac41-13ea913160d8"
      },
      "source": [
        "yy[::-1]"
      ],
      "id": "eb8ab340",
      "execution_count": null,
      "outputs": [
        {
          "output_type": "execute_result",
          "data": {
            "text/plain": [
              "['ali']"
            ]
          },
          "metadata": {
            "tags": []
          },
          "execution_count": 44
        }
      ]
    },
    {
      "cell_type": "code",
      "metadata": {
        "id": "2fb79bcd",
        "outputId": "ca6278f2-6b1f-47bc-f0ea-9a6f8595aa06"
      },
      "source": [
        "zz = [1]\n",
        "\n",
        "zz[::-1]"
      ],
      "id": "2fb79bcd",
      "execution_count": null,
      "outputs": [
        {
          "output_type": "execute_result",
          "data": {
            "text/plain": [
              "[1]"
            ]
          },
          "metadata": {
            "tags": []
          },
          "execution_count": 45
        }
      ]
    },
    {
      "cell_type": "code",
      "metadata": {
        "id": "49ea8dfa",
        "outputId": "6dc7af4e-36a7-4d17-cccc-adb633cea57c"
      },
      "source": [
        "print(len([[1, 2, 3]][0]))"
      ],
      "id": "49ea8dfa",
      "execution_count": null,
      "outputs": [
        {
          "output_type": "stream",
          "text": [
            "3\n"
          ],
          "name": "stdout"
        }
      ]
    },
    {
      "cell_type": "code",
      "metadata": {
        "id": "444f509c",
        "outputId": "00006745-24de-4692-cbd9-6fb17e20e709"
      },
      "source": [
        "len([[]])"
      ],
      "id": "444f509c",
      "execution_count": null,
      "outputs": [
        {
          "output_type": "execute_result",
          "data": {
            "text/plain": [
              "1"
            ]
          },
          "metadata": {
            "tags": []
          },
          "execution_count": 47
        }
      ]
    },
    {
      "cell_type": "code",
      "metadata": {
        "id": "025a480f",
        "outputId": "f8374af8-ccef-4f50-e6ca-7e7504e0ad41"
      },
      "source": [
        "len([\"\"])"
      ],
      "id": "025a480f",
      "execution_count": null,
      "outputs": [
        {
          "output_type": "execute_result",
          "data": {
            "text/plain": [
              "1"
            ]
          },
          "metadata": {
            "tags": []
          },
          "execution_count": 48
        }
      ]
    },
    {
      "cell_type": "code",
      "metadata": {
        "id": "6e989890"
      },
      "source": [
        "sayılar = []"
      ],
      "id": "6e989890",
      "execution_count": null,
      "outputs": []
    },
    {
      "cell_type": "code",
      "metadata": {
        "id": "b995ab9c"
      },
      "source": [
        "sayılar.append(1)"
      ],
      "id": "b995ab9c",
      "execution_count": null,
      "outputs": []
    },
    {
      "cell_type": "code",
      "metadata": {
        "id": "482ffbb2",
        "outputId": "1500f4a6-1618-4aa2-b9bd-1448f2238820"
      },
      "source": [
        "sayılar"
      ],
      "id": "482ffbb2",
      "execution_count": null,
      "outputs": [
        {
          "output_type": "execute_result",
          "data": {
            "text/plain": [
              "[1]"
            ]
          },
          "metadata": {
            "tags": []
          },
          "execution_count": 51
        }
      ]
    },
    {
      "cell_type": "code",
      "metadata": {
        "id": "9d8a5e68"
      },
      "source": [
        "sayılar.append(2)"
      ],
      "id": "9d8a5e68",
      "execution_count": null,
      "outputs": []
    },
    {
      "cell_type": "code",
      "metadata": {
        "id": "360ff154"
      },
      "source": [
        "sayılar.append(3)"
      ],
      "id": "360ff154",
      "execution_count": null,
      "outputs": []
    },
    {
      "cell_type": "code",
      "metadata": {
        "id": "e5b0e98d",
        "outputId": "b95ce310-5be6-4f02-81eb-a7bb94556556"
      },
      "source": [
        "sayılar"
      ],
      "id": "e5b0e98d",
      "execution_count": null,
      "outputs": [
        {
          "output_type": "execute_result",
          "data": {
            "text/plain": [
              "[1, 2, 3]"
            ]
          },
          "metadata": {
            "tags": []
          },
          "execution_count": 54
        }
      ]
    },
    {
      "cell_type": "code",
      "metadata": {
        "id": "899b0230"
      },
      "source": [
        "sayılar.append(4)"
      ],
      "id": "899b0230",
      "execution_count": null,
      "outputs": []
    },
    {
      "cell_type": "code",
      "metadata": {
        "id": "01bf9d63",
        "outputId": "4d905e3b-b1d0-48fa-87c5-1a13275e79bc"
      },
      "source": [
        "sayılar"
      ],
      "id": "01bf9d63",
      "execution_count": null,
      "outputs": [
        {
          "output_type": "execute_result",
          "data": {
            "text/plain": [
              "[1, 2, 3, 4]"
            ]
          },
          "metadata": {
            "tags": []
          },
          "execution_count": 57
        }
      ]
    },
    {
      "cell_type": "code",
      "metadata": {
        "id": "11aaa33c",
        "outputId": "6532de86-da28-4703-b3c4-f18fa5b99146"
      },
      "source": [
        "sayılar.insert(4,5)\n",
        "sayılar"
      ],
      "id": "11aaa33c",
      "execution_count": null,
      "outputs": [
        {
          "output_type": "execute_result",
          "data": {
            "text/plain": [
              "[1, 2, 3, 4, 5]"
            ]
          },
          "metadata": {
            "tags": []
          },
          "execution_count": 58
        }
      ]
    },
    {
      "cell_type": "code",
      "metadata": {
        "id": "515dcf1d"
      },
      "source": [
        "sayılar.insert(6,6)"
      ],
      "id": "515dcf1d",
      "execution_count": null,
      "outputs": []
    },
    {
      "cell_type": "code",
      "metadata": {
        "id": "54ec3014",
        "outputId": "722db416-6594-49a1-9b2a-777e842fbdcb"
      },
      "source": [
        "sayılar.remove()"
      ],
      "id": "54ec3014",
      "execution_count": null,
      "outputs": [
        {
          "output_type": "execute_result",
          "data": {
            "text/plain": [
              "[1, 2, 3, 4, 5, 6]"
            ]
          },
          "metadata": {
            "tags": []
          },
          "execution_count": 60
        }
      ]
    },
    {
      "cell_type": "code",
      "metadata": {
        "id": "56240aaa",
        "outputId": "efbb1c9c-2023-4e29-8d87-ff469166e28c"
      },
      "source": [
        "ord(\"a\")"
      ],
      "id": "56240aaa",
      "execution_count": null,
      "outputs": [
        {
          "output_type": "execute_result",
          "data": {
            "text/plain": [
              "97"
            ]
          },
          "metadata": {
            "tags": []
          },
          "execution_count": 62
        }
      ]
    },
    {
      "cell_type": "code",
      "metadata": {
        "id": "aba035c6",
        "outputId": "a87addae-7530-42ab-e9c1-a29c05b22cee"
      },
      "source": [
        "ord(\"b\")"
      ],
      "id": "aba035c6",
      "execution_count": null,
      "outputs": [
        {
          "output_type": "execute_result",
          "data": {
            "text/plain": [
              "98"
            ]
          },
          "metadata": {
            "tags": []
          },
          "execution_count": 63
        }
      ]
    },
    {
      "cell_type": "code",
      "metadata": {
        "id": "e3dd97c5",
        "outputId": "6a223b22-5bd0-4060-a8ad-98349fe6a6b1"
      },
      "source": [
        "ord(\"A\")"
      ],
      "id": "e3dd97c5",
      "execution_count": null,
      "outputs": [
        {
          "output_type": "execute_result",
          "data": {
            "text/plain": [
              "65"
            ]
          },
          "metadata": {
            "tags": []
          },
          "execution_count": 64
        }
      ]
    },
    {
      "cell_type": "code",
      "metadata": {
        "id": "a181e98c"
      },
      "source": [
        ""
      ],
      "id": "a181e98c",
      "execution_count": null,
      "outputs": []
    }
  ]
}