{
  "nbformat": 4,
  "nbformat_minor": 0,
  "metadata": {
    "colab": {
      "name": "PYTHON SESSİON -1.ipynb",
      "provenance": [],
      "collapsed_sections": [],
      "authorship_tag": "ABX9TyPxBA0wCnKThH4I/SqLvAFD",
      "include_colab_link": true
    },
    "kernelspec": {
      "name": "python3",
      "display_name": "Python 3"
    },
    "language_info": {
      "name": "python"
    }
  },
  "cells": [
    {
      "cell_type": "markdown",
      "metadata": {
        "id": "view-in-github",
        "colab_type": "text"
      },
      "source": [
        "<a href=\"https://colab.research.google.com/github/C9201MLK/Pyhton/blob/main/PYTHON_SESS%C4%B0ON_1.ipynb\" target=\"_parent\"><img src=\"https://colab.research.google.com/assets/colab-badge.svg\" alt=\"Open In Colab\"/></a>"
      ]
    },
    {
      "cell_type": "code",
      "metadata": {
        "colab": {
          "base_uri": "https://localhost:8080/"
        },
        "id": "_2U8AdFxEnml",
        "outputId": "2a8bdcd0-d830-4f6f-e2ec-57b1bcddd197"
      },
      "source": [
        "print('Hello World')"
      ],
      "execution_count": null,
      "outputs": [
        {
          "output_type": "stream",
          "text": [
            "Hello World\n"
          ],
          "name": "stdout"
        }
      ]
    },
    {
      "cell_type": "code",
      "metadata": {
        "colab": {
          "base_uri": "https://localhost:8080/"
        },
        "id": "zSn8COHUJsE9",
        "outputId": "c927a7f3-17df-4b4f-8dc2-c941646fe88b"
      },
      "source": [
        "print('3.14')"
      ],
      "execution_count": null,
      "outputs": [
        {
          "output_type": "stream",
          "text": [
            "3.14\n"
          ],
          "name": "stdout"
        }
      ]
    },
    {
      "cell_type": "code",
      "metadata": {
        "id": "DHlwzOyPMiZU"
      },
      "source": [
        "string_değişken =\"clarusway\""
      ],
      "execution_count": null,
      "outputs": []
    },
    {
      "cell_type": "code",
      "metadata": {
        "id": "Blq8ayZJ_scL"
      },
      "source": [
        ""
      ],
      "execution_count": null,
      "outputs": []
    },
    {
      "cell_type": "code",
      "metadata": {
        "id": "AhdBUhG56Eq2"
      },
      "source": [
        ""
      ],
      "execution_count": null,
      "outputs": []
    },
    {
      "cell_type": "code",
      "metadata": {
        "colab": {
          "base_uri": "https://localhost:8080/"
        },
        "id": "ik4uh7Qex7P4",
        "outputId": "06757cb3-2848-4fbb-955b-a4d4aff0161c"
      },
      "source": [
        "a=3\n",
        "b=4\n",
        "c=(a**2+b**2)**0.5\n",
        "print(c)\n"
      ],
      "execution_count": null,
      "outputs": [
        {
          "output_type": "stream",
          "text": [
            "5.0\n"
          ],
          "name": "stdout"
        }
      ]
    },
    {
      "cell_type": "code",
      "metadata": {
        "colab": {
          "base_uri": "https://localhost:8080/"
        },
        "id": "mYJ29n-y_oSx",
        "outputId": "9e5fd3dd-e00e-4d5e-f879-0b6862c07fa9"
      },
      "source": [
        "print(\"ali\\n\\veli\\ndeli\")"
      ],
      "execution_count": null,
      "outputs": [
        {
          "output_type": "stream",
          "text": [
            "ali\n",
            "\u000beli\n",
            "deli\n"
          ],
          "name": "stdout"
        }
      ]
    },
    {
      "cell_type": "code",
      "metadata": {
        "colab": {
          "base_uri": "https://localhost:8080/"
        },
        "id": "QWGhYypiBQLY",
        "outputId": "c5249e5f-e4b5-4651-abf3-4cb0052ae333"
      },
      "source": [
        "print(12,22,33)"
      ],
      "execution_count": null,
      "outputs": [
        {
          "output_type": "stream",
          "text": [
            "12 22 33\n"
          ],
          "name": "stdout"
        }
      ]
    },
    {
      "cell_type": "code",
      "metadata": {
        "colab": {
          "base_uri": "https://localhost:8080/"
        },
        "id": "MTLZr0VfBn6f",
        "outputId": "cd65c29e-b244-4a45-ad89-30fdbdf5db77"
      },
      "source": [
        "print(12,22,False)"
      ],
      "execution_count": null,
      "outputs": [
        {
          "output_type": "stream",
          "text": [
            "12 22 False\n"
          ],
          "name": "stdout"
        }
      ]
    },
    {
      "cell_type": "code",
      "metadata": {
        "colab": {
          "base_uri": "https://localhost:8080/"
        },
        "id": "sVpZTh4MBvoI",
        "outputId": "c9d151b1-77e1-46c5-8295-7b4f71d8f5b0"
      },
      "source": [
        "print(12,\"22\",False,sep=\"!\")"
      ],
      "execution_count": null,
      "outputs": [
        {
          "output_type": "stream",
          "text": [
            "12!22!False\n"
          ],
          "name": "stdout"
        }
      ]
    },
    {
      "cell_type": "code",
      "metadata": {
        "colab": {
          "base_uri": "https://localhost:8080/"
        },
        "id": "wuL7MBdXCBG2",
        "outputId": "1d038314-07a5-43a8-aabd-66049a499c59"
      },
      "source": [
        "print(\"hayriye\",end=\"\")"
      ],
      "execution_count": null,
      "outputs": [
        {
          "output_type": "stream",
          "text": [
            "hayriye"
          ],
          "name": "stdout"
        }
      ]
    },
    {
      "cell_type": "code",
      "metadata": {
        "colab": {
          "base_uri": "https://localhost:8080/"
        },
        "id": "U_x0_cwmCq8F",
        "outputId": "df0f69c1-0a52-4fec-8a48-d96fb818b900"
      },
      "source": [
        "print(\"hayriye\",\"selvi\",\"bahar\",11,end=\"-\")\n",
        "print(\"hayri\")\n"
      ],
      "execution_count": null,
      "outputs": [
        {
          "output_type": "stream",
          "text": [
            "hayriye selvi bahar 11-hayri\n"
          ],
          "name": "stdout"
        }
      ]
    },
    {
      "cell_type": "code",
      "metadata": {
        "colab": {
          "base_uri": "https://localhost:8080/"
        },
        "id": "ksGBCK1DD17j",
        "outputId": "970605e2-cfc7-425c-b723-3bfa9e3f454b"
      },
      "source": [
        "benim_textim=\"clarusway\\njoseph instructor\\bvirgi\"\n",
        "print(benim_textim)"
      ],
      "execution_count": null,
      "outputs": [
        {
          "output_type": "stream",
          "text": [
            "clarusway\n",
            "joseph instructor\bvirgi\n"
          ],
          "name": "stdout"
        }
      ]
    },
    {
      "cell_type": "code",
      "metadata": {
        "id": "HUaxBScTK_Nq",
        "colab": {
          "base_uri": "https://localhost:8080/"
        },
        "outputId": "25423465-27b4-49d8-bba9-0e5e6a9df67f"
      },
      "source": [
        "x = input(\"Bir veri girin\")\n",
        "y = input (\"bir veri girin\")\n",
        "z = x + y\n"
      ],
      "execution_count": null,
      "outputs": [
        {
          "output_type": "stream",
          "text": [
            "Bir veri girin11\n",
            "bir veri girin3\n"
          ],
          "name": "stdout"
        }
      ]
    },
    {
      "cell_type": "code",
      "metadata": {
        "colab": {
          "base_uri": "https://localhost:8080/"
        },
        "id": "NkutnLPGjF6z",
        "outputId": "f90f1cef-16f8-4e8d-d81d-ceb427b5648d"
      },
      "source": [
        "print(z)\n"
      ],
      "execution_count": null,
      "outputs": [
        {
          "output_type": "stream",
          "text": [
            "113\n"
          ],
          "name": "stdout"
        }
      ]
    },
    {
      "cell_type": "code",
      "metadata": {
        "id": "Pv0eseKnjZ64"
      },
      "source": [
        "z = \"11\" +\"4\"  # \"114\"\n"
      ],
      "execution_count": null,
      "outputs": []
    },
    {
      "cell_type": "code",
      "metadata": {
        "colab": {
          "base_uri": "https://localhost:8080/"
        },
        "id": "rHoibkH8jluN",
        "outputId": "bc22f3f4-b3db-4ac9-fac9-c3fa323b2f9c"
      },
      "source": [
        "21//3"
      ],
      "execution_count": null,
      "outputs": [
        {
          "output_type": "execute_result",
          "data": {
            "text/plain": [
              "7"
            ]
          },
          "metadata": {
            "tags": []
          },
          "execution_count": 5
        }
      ]
    },
    {
      "cell_type": "code",
      "metadata": {
        "colab": {
          "base_uri": "https://localhost:8080/"
        },
        "id": "HIhTfET4j5dm",
        "outputId": "416cbd98-01ca-4dfc-b19f-85ee662ac249"
      },
      "source": [
        "21 % 4"
      ],
      "execution_count": null,
      "outputs": [
        {
          "output_type": "execute_result",
          "data": {
            "text/plain": [
              "1"
            ]
          },
          "metadata": {
            "tags": []
          },
          "execution_count": 7
        }
      ]
    },
    {
      "cell_type": "code",
      "metadata": {
        "id": "1-vvOXUij_ij"
      },
      "source": [
        "kadayıf = True\n",
        "\n",
        "#iç\n",
        "fındık = True\n",
        "fıstık = True\n",
        "ceviz = True\n",
        "\n",
        "#şerbet\n",
        "su = True\n",
        "şeker = True\n",
        "yumurta = True\n",
        "\n",
        "#İÇECEK\n",
        "çay = True\n",
        "limonata = True\n",
        "meşrubat = True\n",
        "\n",
        "yedim = kadayıf and (fındık or fıstık or ceviz) and (su and şeker) and yumurta and (çay or limonata or meşrubat) \n",
        "\n",
        "\n",
        "\n"
      ],
      "execution_count": null,
      "outputs": []
    },
    {
      "cell_type": "code",
      "metadata": {
        "colab": {
          "base_uri": "https://localhost:8080/"
        },
        "id": "qb1DSYFxnic5",
        "outputId": "818b994c-0ae6-40bf-9bf8-d72463781e8f"
      },
      "source": [
        "\n",
        "print(\"\"\"\"\"\")"
      ],
      "execution_count": null,
      "outputs": [
        {
          "output_type": "stream",
          "text": [
            "\n"
          ],
          "name": "stdout"
        }
      ]
    },
    {
      "cell_type": "code",
      "metadata": {
        "colab": {
          "base_uri": "https://localhost:8080/"
        },
        "id": "6wTp33u6oj7x",
        "outputId": "6f28a581-ca93-45d8-d122-320ec1873bdb"
      },
      "source": [
        "print(\"\\\"\")"
      ],
      "execution_count": null,
      "outputs": [
        {
          "output_type": "stream",
          "text": [
            "\"\n"
          ],
          "name": "stdout"
        }
      ]
    },
    {
      "cell_type": "code",
      "metadata": {
        "colab": {
          "base_uri": "https://localhost:8080/",
          "height": 35
        },
        "id": "D8y17kvYpKP6",
        "outputId": "85dd847c-151f-4a0b-e910-d1c509af7f8c"
      },
      "source": [
        "parça = \"clarusway\"[2:5]\n",
        "parça"
      ],
      "execution_count": null,
      "outputs": [
        {
          "output_type": "execute_result",
          "data": {
            "application/vnd.google.colaboratory.intrinsic+json": {
              "type": "string"
            },
            "text/plain": [
              "'aru'"
            ]
          },
          "metadata": {
            "tags": []
          },
          "execution_count": 24
        }
      ]
    },
    {
      "cell_type": "code",
      "metadata": {
        "id": "ZfAl8rxosDgj"
      },
      "source": [
        "isim = \"clarusway okulu\""
      ],
      "execution_count": null,
      "outputs": []
    },
    {
      "cell_type": "code",
      "metadata": {
        "colab": {
          "base_uri": "https://localhost:8080/",
          "height": 35
        },
        "id": "i7M3FC9jseiU",
        "outputId": "3afc25fd-e96f-45a1-8220-fbfddc9cc5a2"
      },
      "source": [
        "isim[3:7]"
      ],
      "execution_count": null,
      "outputs": [
        {
          "output_type": "execute_result",
          "data": {
            "application/vnd.google.colaboratory.intrinsic+json": {
              "type": "string"
            },
            "text/plain": [
              "'rusw'"
            ]
          },
          "metadata": {
            "tags": []
          },
          "execution_count": 26
        }
      ]
    },
    {
      "cell_type": "code",
      "metadata": {
        "colab": {
          "base_uri": "https://localhost:8080/",
          "height": 35
        },
        "id": "l3ngWvvCstFf",
        "outputId": "f3961aa6-84df-4236-db62-89ebda3b49d8"
      },
      "source": [
        "isim[::2]  # iki adım atladı"
      ],
      "execution_count": null,
      "outputs": [
        {
          "output_type": "execute_result",
          "data": {
            "application/vnd.google.colaboratory.intrinsic+json": {
              "type": "string"
            },
            "text/plain": [
              "'cauwyouu'"
            ]
          },
          "metadata": {
            "tags": []
          },
          "execution_count": 27
        }
      ]
    },
    {
      "cell_type": "code",
      "metadata": {
        "id": "QqluPIEuwIe8"
      },
      "source": [
        "city = Phoenix\n",
        "\n",
        "print(city[1::2])"
      ],
      "execution_count": null,
      "outputs": []
    },
    {
      "cell_type": "code",
      "metadata": {
        "colab": {
          "base_uri": "https://localhost:8080/",
          "height": 35
        },
        "id": "hAh4CycKw1BL",
        "outputId": "8bf9ff27-67c0-407e-ba07-d276d4b14d75"
      },
      "source": [
        "\"clarus\" [-3:]"
      ],
      "execution_count": null,
      "outputs": [
        {
          "output_type": "execute_result",
          "data": {
            "application/vnd.google.colaboratory.intrinsic+json": {
              "type": "string"
            },
            "text/plain": [
              "'rus'"
            ]
          },
          "metadata": {
            "tags": []
          },
          "execution_count": 29
        }
      ]
    },
    {
      "cell_type": "code",
      "metadata": {
        "colab": {
          "base_uri": "https://localhost:8080/",
          "height": 35
        },
        "id": "hcwBgaWpzVp1",
        "outputId": "ec71c77a-db8b-4c71-9235-fdf9b6f95d24"
      },
      "source": [
        "\"clarus\"[-3::-1]"
      ],
      "execution_count": null,
      "outputs": [
        {
          "output_type": "execute_result",
          "data": {
            "application/vnd.google.colaboratory.intrinsic+json": {
              "type": "string"
            },
            "text/plain": [
              "'ralc'"
            ]
          },
          "metadata": {
            "tags": []
          },
          "execution_count": 30
        }
      ]
    },
    {
      "cell_type": "code",
      "metadata": {
        "colab": {
          "base_uri": "https://localhost:8080/",
          "height": 35
        },
        "id": "Zapt44_nzwZT",
        "outputId": "cca0c2d7-237a-4535-b47c-4685157f5f6f"
      },
      "source": [
        "hayvan = \"hippopotamus\"\n",
        "hayvan"
      ],
      "execution_count": null,
      "outputs": [
        {
          "output_type": "execute_result",
          "data": {
            "application/vnd.google.colaboratory.intrinsic+json": {
              "type": "string"
            },
            "text/plain": [
              "'hippopotamus'"
            ]
          },
          "metadata": {
            "tags": []
          },
          "execution_count": 31
        }
      ]
    },
    {
      "cell_type": "code",
      "metadata": {
        "colab": {
          "base_uri": "https://localhost:8080/",
          "height": 35
        },
        "id": "YPMO6PoC105a",
        "outputId": "c68e45ff-9767-4d5a-f2d9-1c5361e6047d"
      },
      "source": [
        "hayvan [-5:-2]\n"
      ],
      "execution_count": null,
      "outputs": [
        {
          "output_type": "execute_result",
          "data": {
            "application/vnd.google.colaboratory.intrinsic+json": {
              "type": "string"
            },
            "text/plain": [
              "'tam'"
            ]
          },
          "metadata": {
            "tags": []
          },
          "execution_count": 32
        }
      ]
    },
    {
      "cell_type": "code",
      "metadata": {
        "colab": {
          "base_uri": "https://localhost:8080/",
          "height": 35
        },
        "id": "-S6MPuMM17nJ",
        "outputId": "1992403a-a022-4f6d-e1f2-d3786ae9b5f7"
      },
      "source": [
        "hayvan[-5:-2:-1]"
      ],
      "execution_count": null,
      "outputs": [
        {
          "output_type": "execute_result",
          "data": {
            "application/vnd.google.colaboratory.intrinsic+json": {
              "type": "string"
            },
            "text/plain": [
              "''"
            ]
          },
          "metadata": {
            "tags": []
          },
          "execution_count": 34
        }
      ]
    },
    {
      "cell_type": "code",
      "metadata": {
        "colab": {
          "base_uri": "https://localhost:8080/",
          "height": 35
        },
        "id": "5a_eRuLF2L6D",
        "outputId": "ae70c40e-dd48-4765-e21f-4cc6b4aee31b"
      },
      "source": [
        "hayvan[-2:-5]"
      ],
      "execution_count": null,
      "outputs": [
        {
          "output_type": "execute_result",
          "data": {
            "application/vnd.google.colaboratory.intrinsic+json": {
              "type": "string"
            },
            "text/plain": [
              "''"
            ]
          },
          "metadata": {
            "tags": []
          },
          "execution_count": 35
        }
      ]
    },
    {
      "cell_type": "code",
      "metadata": {
        "colab": {
          "base_uri": "https://localhost:8080/"
        },
        "id": "8JQYepA62i7D",
        "outputId": "55f1c868-c1f9-4cee-fbd0-e39e8aaa7190"
      },
      "source": [
        "var = \"  abc  \"\n",
        "len(var)   # boşluklarıda sayar karakter olarak"
      ],
      "execution_count": null,
      "outputs": [
        {
          "output_type": "execute_result",
          "data": {
            "text/plain": [
              "7"
            ]
          },
          "metadata": {
            "tags": []
          },
          "execution_count": 36
        }
      ]
    },
    {
      "cell_type": "code",
      "metadata": {
        "colab": {
          "base_uri": "https://localhost:8080/"
        },
        "id": "MGs2e18E38Zb",
        "outputId": "2c34030f-3806-441c-cd4f-6b549e2a027a"
      },
      "source": [
        "var1 = \"1.  abc  .1\"\n",
        "len(var1)"
      ],
      "execution_count": null,
      "outputs": [
        {
          "output_type": "execute_result",
          "data": {
            "text/plain": [
              "11"
            ]
          },
          "metadata": {
            "tags": []
          },
          "execution_count": 37
        }
      ]
    },
    {
      "cell_type": "code",
      "metadata": {
        "colab": {
          "base_uri": "https://localhost:8080/",
          "height": 35
        },
        "id": "OenRfOeY4PS_",
        "outputId": "640051d8-dd61-42e0-a35e-38e7dc75c1dd"
      },
      "source": [
        "\"upper-\" * 3"
      ],
      "execution_count": null,
      "outputs": [
        {
          "output_type": "execute_result",
          "data": {
            "application/vnd.google.colaboratory.intrinsic+json": {
              "type": "string"
            },
            "text/plain": [
              "'upper-upper-upper-'"
            ]
          },
          "metadata": {
            "tags": []
          },
          "execution_count": 38
        }
      ]
    },
    {
      "cell_type": "code",
      "metadata": {
        "colab": {
          "base_uri": "https://localhost:8080/",
          "height": 35
        },
        "id": "cqKb9f4_5OeX",
        "outputId": "9aa6ad48-c18a-495a-f186-a836b1736012"
      },
      "source": [
        "3 * \"upper-\"\n"
      ],
      "execution_count": null,
      "outputs": [
        {
          "output_type": "execute_result",
          "data": {
            "application/vnd.google.colaboratory.intrinsic+json": {
              "type": "string"
            },
            "text/plain": [
              "'upper-upper-upper-'"
            ]
          },
          "metadata": {
            "tags": []
          },
          "execution_count": 40
        }
      ]
    },
    {
      "cell_type": "code",
      "metadata": {
        "colab": {
          "base_uri": "https://localhost:8080/"
        },
        "id": "Vy_dgN9L5R5E",
        "outputId": "c5dae697-1975-4bb4-b999-78187422715a"
      },
      "source": [
        "str = \"ey edip pide ye\"\n",
        "print(str[::-1])"
      ],
      "execution_count": null,
      "outputs": [
        {
          "output_type": "stream",
          "text": [
            "ey edip pide ye\n"
          ],
          "name": "stdout"
        }
      ]
    },
    {
      "cell_type": "code",
      "metadata": {
        "colab": {
          "base_uri": "https://localhost:8080/"
        },
        "id": "OO38zGhC7sxG",
        "outputId": "779f526a-b548-4768-abf0-3968eb8d1fc9"
      },
      "source": [
        "print(3*'melike')"
      ],
      "execution_count": null,
      "outputs": [
        {
          "output_type": "stream",
          "text": [
            "melikemelikemelike\n"
          ],
          "name": "stdout"
        }
      ]
    },
    {
      "cell_type": "code",
      "metadata": {
        "colab": {
          "base_uri": "https://localhost:8080/"
        },
        "id": "IJf85ark8P2F",
        "outputId": "c0b28cf3-def4-4169-9155-ca816528b9d9"
      },
      "source": [
        "print(*\"melike\")"
      ],
      "execution_count": null,
      "outputs": [
        {
          "output_type": "stream",
          "text": [
            "m e l i k e\n"
          ],
          "name": "stdout"
        }
      ]
    },
    {
      "cell_type": "code",
      "metadata": {
        "id": "MdAMm-yV-RLT"
      },
      "source": [
        "s1 = \"clarus\""
      ],
      "execution_count": null,
      "outputs": []
    },
    {
      "cell_type": "code",
      "metadata": {
        "colab": {
          "base_uri": "https://localhost:8080/",
          "height": 35
        },
        "id": "CenZ-j8GDln3",
        "outputId": "70e8d893-3c80-4861-bd0a-a325d3488b47"
      },
      "source": [
        "s1 +=\"way\"\n",
        "s1"
      ],
      "execution_count": null,
      "outputs": [
        {
          "output_type": "execute_result",
          "data": {
            "application/vnd.google.colaboratory.intrinsic+json": {
              "type": "string"
            },
            "text/plain": [
              "'clarusway'"
            ]
          },
          "metadata": {
            "tags": []
          },
          "execution_count": 48
        }
      ]
    },
    {
      "cell_type": "code",
      "metadata": {
        "colab": {
          "base_uri": "https://localhost:8080/",
          "height": 35
        },
        "id": "dQuiiKGRDxT5",
        "outputId": "ca7faa2d-ea02-4e82-eced-b742231a7271"
      },
      "source": [
        "s1 *= 2  # s1 = s1 *2\n",
        "s1"
      ],
      "execution_count": null,
      "outputs": [
        {
          "output_type": "execute_result",
          "data": {
            "application/vnd.google.colaboratory.intrinsic+json": {
              "type": "string"
            },
            "text/plain": [
              "'claruswayclarusway'"
            ]
          },
          "metadata": {
            "tags": []
          },
          "execution_count": 49
        }
      ]
    },
    {
      "cell_type": "code",
      "metadata": {
        "colab": {
          "base_uri": "https://localhost:8080/",
          "height": 35
        },
        "id": "zOqtGo2rD2Yq",
        "outputId": "eca8ffc1-8540-4aa4-8fa7-d12ac8bc6241"
      },
      "source": [
        "\"Benim {} öğrencilerimin maşaallahı var {}.\".format(\"güzel\", \"mı acaba?\")"
      ],
      "execution_count": null,
      "outputs": [
        {
          "output_type": "execute_result",
          "data": {
            "application/vnd.google.colaboratory.intrinsic+json": {
              "type": "string"
            },
            "text/plain": [
              "'Benim güzel öğrencilerimin maşaallahı var mı acaba?.'"
            ]
          },
          "metadata": {
            "tags": []
          },
          "execution_count": 51
        }
      ]
    },
    {
      "cell_type": "code",
      "metadata": {
        "colab": {
          "base_uri": "https://localhost:8080/"
        },
        "id": "QZA9GVGYFQOP",
        "outputId": "5ed42573-9e9d-46f9-f5d4-5686c7b3086d"
      },
      "source": [
        "print(9%2)  # kalanı verir."
      ],
      "execution_count": null,
      "outputs": [
        {
          "output_type": "stream",
          "text": [
            "1\n"
          ],
          "name": "stdout"
        }
      ]
    },
    {
      "cell_type": "code",
      "metadata": {
        "colab": {
          "base_uri": "https://localhost:8080/"
        },
        "id": "p_Rm4gA3M09v",
        "outputId": "4e9aba96-27bd-4c04-e938-fdc7c780234e"
      },
      "source": [
        "print(3**2)  # üssü alır"
      ],
      "execution_count": null,
      "outputs": [
        {
          "output_type": "stream",
          "text": [
            "9\n"
          ],
          "name": "stdout"
        }
      ]
    },
    {
      "cell_type": "code",
      "metadata": {
        "colab": {
          "base_uri": "https://localhost:8080/"
        },
        "id": "dvlvi1I4NA7Y",
        "outputId": "7a18804e-b48e-4dd4-b1b4-32312161fff8"
      },
      "source": [
        "print(64**0.5)  # karekök alır\n"
      ],
      "execution_count": null,
      "outputs": [
        {
          "output_type": "stream",
          "text": [
            "8.0\n"
          ],
          "name": "stdout"
        }
      ]
    },
    {
      "cell_type": "code",
      "metadata": {
        "colab": {
          "base_uri": "https://localhost:8080/"
        },
        "id": "-W2R9tsDNPNh",
        "outputId": "3053b587-3a9c-4263-ca89-548554788296"
      },
      "source": [
        "print(\"yesterday I ate\",2,\"apple\")"
      ],
      "execution_count": null,
      "outputs": [
        {
          "output_type": "stream",
          "text": [
            "yesterday I ate 2 apple\n"
          ],
          "name": "stdout"
        }
      ]
    },
    {
      "cell_type": "code",
      "metadata": {
        "colab": {
          "base_uri": "https://localhost:8080/"
        },
        "id": "BVMvOBLuOayZ",
        "outputId": "9d3ec601-9ab4-41ce-fc33-e998c331c59a"
      },
      "source": [
        "print()"
      ],
      "execution_count": null,
      "outputs": [
        {
          "output_type": "stream",
          "text": [
            "\n"
          ],
          "name": "stdout"
        }
      ]
    },
    {
      "cell_type": "code",
      "metadata": {
        "colab": {
          "base_uri": "https://localhost:8080/"
        },
        "id": "IEbZOtk-OhQ4",
        "outputId": "e6553354-7d5c-42b0-811e-e961039aa209"
      },
      "source": [
        "print(\"\")"
      ],
      "execution_count": null,
      "outputs": [
        {
          "output_type": "stream",
          "text": [
            "\n"
          ],
          "name": "stdout"
        }
      ]
    },
    {
      "cell_type": "code",
      "metadata": {
        "colab": {
          "base_uri": "https://localhost:8080/"
        },
        "id": "AS62gikkOkh2",
        "outputId": "4a35bf7d-9ba3-49c3-c6c9-9d3696d1493f"
      },
      "source": [
        "print(\" \")"
      ],
      "execution_count": null,
      "outputs": [
        {
          "output_type": "stream",
          "text": [
            " \n"
          ],
          "name": "stdout"
        }
      ]
    },
    {
      "cell_type": "code",
      "metadata": {
        "colab": {
          "base_uri": "https://localhost:8080/"
        },
        "id": "GJ7GzUrAOnh7",
        "outputId": "9cb37040-cb4b-4d2d-a8a5-1384c5105b4e"
      },
      "source": [
        "print(\"ben\",end=\" \")\n",
        "print(\"annemi\",end=\" \")\n",
        "print(\"çok\",end=\" \")\n",
        "print(\"özledim...\")  # end= bütün satırları birleştirerek tek satırda toplar.\n",
        "# eğer end=\" \" arasına space koymazsan hepsi bitişik olur.\n",
        "\n"
      ],
      "execution_count": null,
      "outputs": [
        {
          "output_type": "stream",
          "text": [
            "ben annemi çok özledim...\n"
          ],
          "name": "stdout"
        }
      ]
    },
    {
      "cell_type": "code",
      "metadata": {
        "colab": {
          "base_uri": "https://localhost:8080/"
        },
        "id": "PoeBsw2JP3jV",
        "outputId": "b1d72668-0235-4a8e-b06c-2b0f203fcc22"
      },
      "source": [
        "print(\"ben\",\"annemi\",\"çok\",\"özledim\",sep='+')"
      ],
      "execution_count": null,
      "outputs": [
        {
          "output_type": "stream",
          "text": [
            "ben+annemi+çok+özledim\n"
          ],
          "name": "stdout"
        }
      ]
    },
    {
      "cell_type": "code",
      "metadata": {
        "colab": {
          "base_uri": "https://localhost:8080/"
        },
        "id": "3pPgVaImQx5W",
        "outputId": "0457f675-3df5-4185-dfd2-135687190d28"
      },
      "source": [
        "print(\"ben\",\"annemi\",\"çok\",\"özledim\",sep='')\n"
      ],
      "execution_count": null,
      "outputs": [
        {
          "output_type": "stream",
          "text": [
            "benannemiçoközledim\n"
          ],
          "name": "stdout"
        }
      ]
    },
    {
      "cell_type": "code",
      "metadata": {
        "colab": {
          "base_uri": "https://localhost:8080/"
        },
        "id": "vw4bkVMnQ7iT",
        "outputId": "2506f71e-6627-4b8f-d92d-f94f0777b730"
      },
      "source": [
        "print(\"ben\",end=\"-\")\n",
        "print(\"annemi\",end=\"-\")\n",
        "print(\"çok\",end=\"-\")\n",
        "print(\"özledim...\") "
      ],
      "execution_count": null,
      "outputs": [
        {
          "output_type": "stream",
          "text": [
            "ben-annemi-çok-özledim...\n"
          ],
          "name": "stdout"
        }
      ]
    },
    {
      "cell_type": "code",
      "metadata": {
        "colab": {
          "base_uri": "https://localhost:8080/"
        },
        "id": "C2L_L2KeRNOo",
        "outputId": "990ba379-c34a-4118-a21a-510b7dc0e55f"
      },
      "source": [
        "print(\"ben\",sep=\"-\")\n",
        "print(\"annemi\",sep=\"-\")\n",
        "print(\"çok\",sep=\"-\")\n",
        "print(\"özledim...\") "
      ],
      "execution_count": null,
      "outputs": [
        {
          "output_type": "stream",
          "text": [
            "ben\n",
            "annemi\n",
            "çok\n",
            "özledim...\n"
          ],
          "name": "stdout"
        }
      ]
    },
    {
      "cell_type": "code",
      "metadata": {
        "colab": {
          "base_uri": "https://localhost:8080/"
        },
        "id": "XHKm5pl9Rh8t",
        "outputId": "5d07b17e-c9ed-4e01-a00e-1be608c4d70e"
      },
      "source": [
        "x = 5\n",
        "print(\"value of x :\",x)\n",
        "x += 2 \n",
        "print(\"2 more of x :\",x,\"\\n\")\n",
        "y = 10\n",
        "print(\"value of y :\",y)\n",
        "\n"
      ],
      "execution_count": null,
      "outputs": [
        {
          "output_type": "stream",
          "text": [
            "value of x : 5\n",
            "2 more of x : 7 \n",
            "\n",
            "value of y : 10\n"
          ],
          "name": "stdout"
        }
      ]
    },
    {
      "cell_type": "code",
      "metadata": {
        "colab": {
          "base_uri": "https://localhost:8080/"
        },
        "id": "4urE8cwIZ48n",
        "outputId": "1b7d2b92-61e1-4c76-a945-d3921e4b60eb"
      },
      "source": [
        "print(\"c:\\\\november\\number_expenditure.txt\")  #  \\n yeni satır anlamında..karışmasın diye çift\\\\ kullanıldı"
      ],
      "execution_count": null,
      "outputs": [
        {
          "output_type": "stream",
          "text": [
            "c:\\november\n",
            "umber_expenditure.txt\n"
          ],
          "name": "stdout"
        }
      ]
    },
    {
      "cell_type": "code",
      "metadata": {
        "colab": {
          "base_uri": "https://localhost:8080/"
        },
        "id": "53GOTqWAb_Cw",
        "outputId": "084d83b3-1d46-487b-a233-6c20fce15bda"
      },
      "source": [
        "print(\"bir\",\"iki\",\"üç\",sep=\"\\t\")  # \\t aralara tab koydu uzun boşluk"
      ],
      "execution_count": null,
      "outputs": [
        {
          "output_type": "stream",
          "text": [
            "bir\tiki\tüç\n"
          ],
          "name": "stdout"
        }
      ]
    },
    {
      "cell_type": "code",
      "metadata": {
        "colab": {
          "base_uri": "https://localhost:8080/"
        },
        "id": "13BCk_fRcjEJ",
        "outputId": "c0b9e16f-8b33-4f97-fe1d-44a0309858c3"
      },
      "source": [
        "print(\"we\",\"\\bare\",\"\\bunited\")  # \\b imleci bir karakter geri alır"
      ],
      "execution_count": null,
      "outputs": [
        {
          "output_type": "stream",
          "text": [
            "we \bare \bunited\n"
          ],
          "name": "stdout"
        }
      ]
    },
    {
      "cell_type": "code",
      "metadata": {
        "id": "ni4Ic-Zgdghl",
        "colab": {
          "base_uri": "https://localhost:8080/"
        },
        "outputId": "934774e3-3ab2-4efb-da9e-a4e2953ba0ba"
      },
      "source": [
        "x = 2\n",
        "y = 3\n",
        "print(f\"burada ne oluyor.aman allahım...{x**y}\")"
      ],
      "execution_count": null,
      "outputs": [
        {
          "output_type": "stream",
          "text": [
            "burada ne oluyor.aman allahım...8\n"
          ],
          "name": "stdout"
        }
      ]
    },
    {
      "cell_type": "code",
      "metadata": {
        "colab": {
          "base_uri": "https://localhost:8080/"
        },
        "id": "EmMLjYHuCFGx",
        "outputId": "7f7a7370-f28e-4ae0-dceb-69ef6a1a9a03"
      },
      "source": [
        "my_name = 'MARIAM'\n",
        "output = (f\"My name is {my_name.capitalize()}\")\n",
        "print(my_name)"
      ],
      "execution_count": null,
      "outputs": [
        {
          "output_type": "stream",
          "text": [
            "MARIAM\n"
          ],
          "name": "stdout"
        }
      ]
    },
    {
      "cell_type": "code",
      "metadata": {
        "colab": {
          "base_uri": "https://localhost:8080/",
          "height": 129
        },
        "id": "WpVOHT-GD1jL",
        "outputId": "1991db46-295a-44fc-9be7-b890e75536e4"
      },
      "source": [
        "name = \"Susan\"\n",
        "age = \"young\"\n",
        "gender = \"lady\"\n",
        "school = \"CLRWY IT university\"\n",
        "print()\n",
        "f\"{name} is a {age} {gender} \" \\\n",
        "f\"and she is a student at\" \\\n",
        "f\" the {school}.\")"
      ],
      "execution_count": null,
      "outputs": [
        {
          "output_type": "error",
          "ename": "SyntaxError",
          "evalue": "ignored",
          "traceback": [
            "\u001b[0;36m  File \u001b[0;32m\"<ipython-input-6-cd22e7e73c31>\"\u001b[0;36m, line \u001b[0;32m1\u001b[0m\n\u001b[0;31m    name = \"Susan\"\u001b[0m\n\u001b[0m        ^\u001b[0m\n\u001b[0;31mSyntaxError\u001b[0m\u001b[0;31m:\u001b[0m invalid character in identifier\n"
          ]
        }
      ]
    },
    {
      "cell_type": "code",
      "metadata": {
        "colab": {
          "base_uri": "https://localhost:8080/",
          "height": 129
        },
        "id": "DQbEviqvGaau",
        "outputId": "fa91fde9-2a33-48fc-87e5-2cb8b4bd1adb"
      },
      "source": [
        "name =             \n",
        "\"Susan\"\n",
        "age = \"young\"\n",
        "gender = \"lady\"\n",
        "school = \"CLRWY IT university\"\n",
        "text = ( f\"{name} is a \" \\\n",
        "    f\"{age} {gender} and she is a \" \\\n",
        "    f\"student at the {school}.\"\n",
        ")\n",
        "print(text)"
      ],
      "execution_count": null,
      "outputs": [
        {
          "output_type": "error",
          "ename": "SyntaxError",
          "evalue": "ignored",
          "traceback": [
            "\u001b[0;36m  File \u001b[0;32m\"<ipython-input-8-efd289b739bc>\"\u001b[0;36m, line \u001b[0;32m1\u001b[0m\n\u001b[0;31m    name = \"Susan\"\u001b[0m\n\u001b[0m        ^\u001b[0m\n\u001b[0;31mSyntaxError\u001b[0m\u001b[0;31m:\u001b[0m invalid character in identifier\n"
          ]
        }
      ]
    },
    {
      "cell_type": "code",
      "metadata": {
        "colab": {
          "base_uri": "https://localhost:8080/",
          "height": 35
        },
        "id": "x1yBN6jQG4LR",
        "outputId": "f406dae4-f7e3-4610-f561-b8a82bfe5495"
      },
      "source": [
        "\"clarusway\".capitalize()"
      ],
      "execution_count": null,
      "outputs": [
        {
          "output_type": "execute_result",
          "data": {
            "application/vnd.google.colaboratory.intrinsic+json": {
              "type": "string"
            },
            "text/plain": [
              "'Clarusway'"
            ]
          },
          "metadata": {
            "tags": []
          },
          "execution_count": 9
        }
      ]
    },
    {
      "cell_type": "code",
      "metadata": {
        "colab": {
          "base_uri": "https://localhost:8080/"
        },
        "id": "iiTK7WZ4WaaK",
        "outputId": "77716c75-6216-4926-e7bb-6e535d3522b0"
      },
      "source": [
        "text = 'S0d0me and G0m0re'\n",
        "print(text.replace(\"0\",\"o\"))\n",
        "\n"
      ],
      "execution_count": null,
      "outputs": [
        {
          "output_type": "stream",
          "text": [
            "Sodome and Gomore\n"
          ],
          "name": "stdout"
        }
      ]
    },
    {
      "cell_type": "code",
      "metadata": {
        "colab": {
          "base_uri": "https://localhost:8080/",
          "height": 35
        },
        "id": "62XPfrYMiL3P",
        "outputId": "f08fb3c0-7916-4e94-a762-b22a88154317"
      },
      "source": [
        "text = 'S0d0me and G0m0re'\n",
        "test = text.replace(\"0\",\"o\")\n",
        "text"
      ],
      "execution_count": null,
      "outputs": [
        {
          "output_type": "execute_result",
          "data": {
            "application/vnd.google.colaboratory.intrinsic+json": {
              "type": "string"
            },
            "text/plain": [
              "'S0d0me and G0m0re'"
            ]
          },
          "metadata": {
            "tags": []
          },
          "execution_count": 12
        }
      ]
    },
    {
      "cell_type": "code",
      "metadata": {
        "colab": {
          "base_uri": "https://localhost:8080/"
        },
        "id": "RR9_b9zoijMe",
        "outputId": "9af2ef8c-4331-4291-fa1f-d8ec4c7b7beb"
      },
      "source": [
        "var = \"\\n\\nahmet\\nmehmet  \"\n",
        "print(var)"
      ],
      "execution_count": null,
      "outputs": [
        {
          "output_type": "stream",
          "text": [
            "\n",
            "\n",
            "ahmet\n",
            "mehmet  \n"
          ],
          "name": "stdout"
        }
      ]
    },
    {
      "cell_type": "code",
      "metadata": {
        "colab": {
          "base_uri": "https://localhost:8080/"
        },
        "id": "IQLN_3EVkNLI",
        "outputId": "c79ae1ae-7f23-4172-d006-0bc431536927"
      },
      "source": [
        "x =\"www.clarusway.com\"\n",
        "print(x.lower())  # hepsi küçük   dfjhgkdfgdfkgjkldfjghkrthkrhjkfhkrthktrhkjgf\n",
        "print(x.title())  # her kelimenin ilk harfi büyür\n",
        "print(x.upper())  # hepsini büyük harf olur\n",
        "print(x.capitalize()) # sadece ilk kelimenin ilk\n",
        "print(x.swapcase()) # Büyükler küçük, küçükler büyük\n",
        "print(x.replace(\"www\", \"https//www\")) # tanımlanan değişiyor\n",
        "print(x.strip()) #\n",
        "print(x.replace(\"a\", \"u\", 1)) # sadece bir kere\n",
        "print(x.replace(\"a\", \"u\")) # boş bırakılınca hepsi\n",
        "print(x.replace(\"a\", \"u\", 5)) # sayı fazla olsada değişmiyor.\n",
        "# x = x.____ olarak koymazsak değişim olmaz.\n",
        "# string .dan sonra tabtab yapınca seçenekler çıkıyor\n",
        "print(x.startswith(\"http\"))\n",
        "print(x.endswith(\"com\"))\n",
        "print(x.strip(\"wm\")) # iki taraftan gördüklerini kırptı. \"w\" or \"m\" gibi\n",
        "print(x.lstrip(\"w\")) #sol taraftan kırpar\n",
        "print(x.rstrip(\"m\")) # sağ taraftan kırpar\n",
        "print(x.strip()) # space tuşlarını yok eder\n",
        "\n"
      ],
      "execution_count": null,
      "outputs": [
        {
          "output_type": "stream",
          "text": [
            "www.clarusway.com\n",
            "Www.Clarusway.Com\n",
            "WWW.CLARUSWAY.COM\n",
            "Www.clarusway.com\n",
            "WWW.CLARUSWAY.COM\n",
            "https//www.clarusway.com\n",
            "www.clarusway.com\n",
            "www.clurusway.com\n",
            "www.cluruswuy.com\n",
            "www.cluruswuy.com\n",
            "False\n",
            "True\n",
            ".clarusway.co\n",
            ".clarusway.com\n",
            "www.clarusway.co\n",
            "www.clarusway.com\n"
          ],
          "name": "stdout"
        }
      ]
    },
    {
      "cell_type": "code",
      "metadata": {
        "id": "x1eibwfaoCF7",
        "colab": {
          "base_uri": "https://localhost:8080/"
        },
        "outputId": "14729543-ed12-4388-8ac9-da0ad21bab63"
      },
      "source": [
        "5!=6"
      ],
      "execution_count": null,
      "outputs": [
        {
          "output_type": "execute_result",
          "data": {
            "text/plain": [
              "True"
            ]
          },
          "metadata": {
            "tags": []
          },
          "execution_count": 1
        }
      ]
    },
    {
      "cell_type": "code",
      "metadata": {
        "colab": {
          "base_uri": "https://localhost:8080/"
        },
        "id": "v7CabX1Zdt4U",
        "outputId": "e2b4e147-0003-4c69-ed79-4440dfbd3a94"
      },
      "source": [
        "print('55')"
      ],
      "execution_count": null,
      "outputs": [
        {
          "output_type": "stream",
          "text": [
            "55\n"
          ],
          "name": "stdout"
        }
      ]
    },
    {
      "cell_type": "code",
      "metadata": {
        "colab": {
          "base_uri": "https://localhost:8080/"
        },
        "id": "-wMtQPLKZuDs",
        "outputId": "614cdefd-fbb1-4b52-faf7-14dc46e6f1b8"
      },
      "source": [
        "print(\"hello\")"
      ],
      "execution_count": null,
      "outputs": [
        {
          "output_type": "stream",
          "text": [
            "hello\n"
          ],
          "name": "stdout"
        }
      ]
    },
    {
      "cell_type": "code",
      "metadata": {
        "id": "sQ6ZxJ9OlstS"
      },
      "source": [
        ""
      ],
      "execution_count": null,
      "outputs": []
    },
    {
      "cell_type": "code",
      "metadata": {
        "colab": {
          "base_uri": "https://localhost:8080/"
        },
        "id": "K555NDtelsbo",
        "outputId": "089492b6-1e4c-41ef-f33c-e18e35426d16"
      },
      "source": [
        "a = 1\n",
        "\n",
        "print(-a)"
      ],
      "execution_count": null,
      "outputs": [
        {
          "output_type": "stream",
          "text": [
            "-1\n"
          ],
          "name": "stdout"
        }
      ]
    },
    {
      "cell_type": "code",
      "metadata": {
        "colab": {
          "base_uri": "https://localhost:8080/"
        },
        "id": "cXx5ACkylsBT",
        "outputId": "dd824ea9-b37d-4724-a364-50d837717b9c"
      },
      "source": [
        "b = -11\n",
        "print(-b)"
      ],
      "execution_count": null,
      "outputs": [
        {
          "output_type": "stream",
          "text": [
            "11\n"
          ],
          "name": "stdout"
        }
      ]
    },
    {
      "cell_type": "code",
      "metadata": {
        "colab": {
          "base_uri": "https://localhost:8080/"
        },
        "id": "Ss3_Pt4xfx-p",
        "outputId": "5622c6e4-d284-4e83-eb0a-796efb99d003"
      },
      "source": [
        "a = 3\n",
        "b = 4\n",
        "\n",
        "print(\"the sum of {} + {} is : {}\".format(a,b,a+b))"
      ],
      "execution_count": null,
      "outputs": [
        {
          "output_type": "stream",
          "text": [
            "the sum of 3 + 4 is : 7\n"
          ],
          "name": "stdout"
        }
      ]
    },
    {
      "cell_type": "code",
      "metadata": {
        "colab": {
          "base_uri": "https://localhost:8080/"
        },
        "id": "EdMpQ5nCli61",
        "outputId": "9aa364ef-4d7a-4821-d80e-dfd344234759"
      },
      "source": [
        "text = \"{:.2f}, {:.3f}, {:.4f}\".format(3.1463, 5.367, 7.32455)\n",
        "\n",
        "print(text)   #  noktadan sonrakileri sildi."
      ],
      "execution_count": null,
      "outputs": [
        {
          "output_type": "stream",
          "text": [
            "3.15, 5.367, 7.3246\n"
          ],
          "name": "stdout"
        }
      ]
    },
    {
      "cell_type": "code",
      "metadata": {
        "colab": {
          "base_uri": "https://localhost:8080/"
        },
        "id": "ZldDpPZjlk3Y",
        "outputId": "4def88e6-df7c-4863-a061-4a6dfba54e73"
      },
      "source": [
        "text = \"{:.2s}, {:.3s}, {:.4s}\".format(\"3.1463\", \"5.367\", \"7.32455\")\n",
        "print(text)\n",
        "# string olunca böyle yapar"
      ],
      "execution_count": null,
      "outputs": [
        {
          "output_type": "stream",
          "text": [
            "3., 5.3, 7.32\n"
          ],
          "name": "stdout"
        }
      ]
    },
    {
      "cell_type": "code",
      "metadata": {
        "colab": {
          "base_uri": "https://localhost:8080/"
        },
        "id": "roB6U_GmlmNW",
        "outputId": "b77adfd9-70b7-40b1-c0a5-d11e9831cd40"
      },
      "source": [
        "text = \"{:.2}, {:.3}, {:.4}\".format(\"3.1463\", \"5.367\", \"7.32455\")\n",
        "print(text)  # s  koymadık ama yine de string olduğunu anladı"
      ],
      "execution_count": null,
      "outputs": [
        {
          "output_type": "stream",
          "text": [
            "3., 5.3, 7.32\n"
          ],
          "name": "stdout"
        }
      ]
    },
    {
      "cell_type": "code",
      "metadata": {
        "colab": {
          "base_uri": "https://localhost:8080/",
          "height": 35
        },
        "id": "R0M0DPlRlnZ2",
        "outputId": "55ad379d-4c29-4863-aaf8-301212a83124"
      },
      "source": [
        "text = \"{:>10}\".format(\"test\")\n",
        "text"
      ],
      "execution_count": null,
      "outputs": [
        {
          "output_type": "execute_result",
          "data": {
            "application/vnd.google.colaboratory.intrinsic+json": {
              "type": "string"
            },
            "text/plain": [
              "'      test'"
            ]
          },
          "metadata": {
            "tags": []
          },
          "execution_count": 14
        }
      ]
    },
    {
      "cell_type": "code",
      "metadata": {
        "colab": {
          "base_uri": "https://localhost:8080/",
          "height": 35
        },
        "id": "-yHGioolpolw",
        "outputId": "7b5b8400-a737-4571-f145-99507e5e80b0"
      },
      "source": [
        "text = \"{:<10}\".format(\"test\")\n",
        "text"
      ],
      "execution_count": null,
      "outputs": [
        {
          "output_type": "execute_result",
          "data": {
            "application/vnd.google.colaboratory.intrinsic+json": {
              "type": "string"
            },
            "text/plain": [
              "'test      '"
            ]
          },
          "metadata": {
            "tags": []
          },
          "execution_count": 15
        }
      ]
    },
    {
      "cell_type": "code",
      "metadata": {
        "colab": {
          "base_uri": "https://localhost:8080/",
          "height": 35
        },
        "id": "osrPsfi6ppLp",
        "outputId": "650d1798-af2d-4718-d9ed-ecc0c3cfbff2"
      },
      "source": [
        "text = \"formatlama satırı {:>20} bu textin sonu\".format(\"test\")\n",
        "text"
      ],
      "execution_count": null,
      "outputs": [
        {
          "output_type": "execute_result",
          "data": {
            "application/vnd.google.colaboratory.intrinsic+json": {
              "type": "string"
            },
            "text/plain": [
              "'formatlama satırı                 test bu textin sonu'"
            ]
          },
          "metadata": {
            "tags": []
          },
          "execution_count": 16
        }
      ]
    },
    {
      "cell_type": "code",
      "metadata": {
        "colab": {
          "base_uri": "https://localhost:8080/",
          "height": 35
        },
        "id": "54V7E55cpp9B",
        "outputId": "2b7ca798-8273-42aa-dbf8-b6ca0f889dba"
      },
      "source": [
        "text = \"bla bla {:<15} formatlama cümleciği\".format(\"ökkeş\")\n",
        "text"
      ],
      "execution_count": null,
      "outputs": [
        {
          "output_type": "execute_result",
          "data": {
            "application/vnd.google.colaboratory.intrinsic+json": {
              "type": "string"
            },
            "text/plain": [
              "'bla bla ökkeş           formatlama cümleciği'"
            ]
          },
          "metadata": {
            "tags": []
          },
          "execution_count": 18
        }
      ]
    },
    {
      "cell_type": "code",
      "metadata": {
        "id": "rqL7AGkXpqX2"
      },
      "source": [
        "text = \"{:10.5}\".format(\"blablablabla\")\n"
      ],
      "execution_count": null,
      "outputs": []
    },
    {
      "cell_type": "code",
      "metadata": {
        "colab": {
          "base_uri": "https://localhost:8080/",
          "height": 35
        },
        "id": "OjtCvAixpqvL",
        "outputId": "e98f3655-86d0-4aa6-d33a-f4eba8272802"
      },
      "source": [
        "\"{:+d}\".format(115)  # +115"
      ],
      "execution_count": null,
      "outputs": [
        {
          "output_type": "execute_result",
          "data": {
            "application/vnd.google.colaboratory.intrinsic+json": {
              "type": "string"
            },
            "text/plain": [
              "'+115'"
            ]
          },
          "metadata": {
            "tags": []
          },
          "execution_count": 22
        }
      ]
    },
    {
      "cell_type": "code",
      "metadata": {
        "id": "jHtTb7YGprV2"
      },
      "source": [
        "hoca1 = [\"Raymond\", \"U.\", \"python\", \"court9\" ]\n",
        "hoca1[1] = \"T.\" #soyismini değiştirdim.\n",
        "print(hoca1)\n",
        "hoca1.append(\"Tr\")  # sınıfa ilave yaptım.\n",
        "print(hoca1)\n",
        "hoca1 = hoca1 + [\"IT specialist\"] # uzmanlığını da ilave ettim.\n",
        "print(hoca1)\n",
        "# hoca ismini yanlış biliyormuşum.\n",
        "hoca1[:2] = [\"Joseph\", \" \"]\n",
        "hoca1[5] = \"Data Scientist\"\n",
        "print(hoca1)\n",
        "hoca1.insert(0, \"Aslan\")\n",
        "print(hoca1)\n",
        "hoca1.insert(7, \"Süper Hoca\") # kaçıncı index olacaksa onu yazıyoruz. sonuncudan büyük olabilir.\n",
        "print(hoca1)\n",
        "# hoca övülmeyi sevmiyormuş\n",
        "hoca1.remove(\"Aslan\")\n",
        "hoca1.remove(\"Süper Hoca\")\n",
        "print(hoca1)\n"
      ],
      "execution_count": null,
      "outputs": []
    },
    {
      "cell_type": "code",
      "metadata": {
        "id": "_D2P8Beaprrn"
      },
      "source": [
        "list_1 = ['one', 'four', 'nine']\n",
        "list_2 = ['@', '*-', 'False']\n",
        "list_3 = [True, False]\n",
        "list_4 = [[3], [44], [-12]]\n",
        "list_5 = [[1, 3], [44, -40], [-12, 1]]"
      ],
      "execution_count": null,
      "outputs": []
    },
    {
      "cell_type": "code",
      "metadata": {
        "id": "K5qaKU3UptMQ"
      },
      "source": [
        ""
      ],
      "execution_count": null,
      "outputs": []
    },
    {
      "cell_type": "code",
      "metadata": {
        "id": "r2HU73bYEU8A"
      },
      "source": [
        "list_1 = ['one', 'four', 'nine']\n",
        "list_2 = ['@', '*-', 'False']\n",
        "list_3 = [True, False]\n",
        "list_4 = [[3], [44], [-12]]\n",
        "list_5 = [[1, 3], [44, -40], [-12, 1]]"
      ],
      "execution_count": null,
      "outputs": []
    },
    {
      "cell_type": "code",
      "metadata": {
        "id": "sTGytlDApt_Y"
      },
      "source": [
        "list_1.sort"
      ],
      "execution_count": null,
      "outputs": []
    },
    {
      "cell_type": "code",
      "metadata": {
        "id": "NDgiKFl7pumX"
      },
      "source": [
        "city = [\"los-angeles\", \"beirut\", \"tokyo\"]"
      ],
      "execution_count": null,
      "outputs": []
    },
    {
      "cell_type": "code",
      "metadata": {
        "id": "-7itb3orpvxK"
      },
      "source": [
        "city[0] = True \n"
      ],
      "execution_count": null,
      "outputs": []
    },
    {
      "cell_type": "code",
      "metadata": {
        "id": "KiC_9YhvDtwP"
      },
      "source": [
        "city"
      ],
      "execution_count": null,
      "outputs": []
    },
    {
      "cell_type": "code",
      "metadata": {
        "id": "c-aKhSB1DuXd"
      },
      "source": [
        ""
      ],
      "execution_count": null,
      "outputs": []
    },
    {
      "cell_type": "code",
      "metadata": {
        "id": "a8tmsA-cEnbs"
      },
      "source": [
        "family = {\"name1\" : \"melike\",\n",
        "          \"name2\" : \"yavuz\",\n",
        "          \"name3\" : \"leyla\"}\n",
        "               "
      ],
      "execution_count": null,
      "outputs": []
    },
    {
      "cell_type": "code",
      "metadata": {
        "colab": {
          "base_uri": "https://localhost:8080/"
        },
        "id": "SlWgTvdYEnzP",
        "outputId": "b1e56857-9544-495e-915c-347d4f8caea0"
      },
      "source": [
        "print(family)"
      ],
      "execution_count": null,
      "outputs": [
        {
          "output_type": "stream",
          "text": [
            "{'name1': 'melike', 'name2': 'yavuz', 'name3': 'leyla'}\n"
          ],
          "name": "stdout"
        }
      ]
    },
    {
      "cell_type": "code",
      "metadata": {
        "id": "fox5-vr5EoEr"
      },
      "source": [
        "family = dict(name1 = 'melike', name2 = 'yavuz', name3 = 'leyla' , name4 = 'zafer')"
      ],
      "execution_count": null,
      "outputs": []
    },
    {
      "cell_type": "code",
      "metadata": {
        "colab": {
          "base_uri": "https://localhost:8080/"
        },
        "id": "qGnjiuNdEoly",
        "outputId": "c5e84e4f-4920-445e-cdfe-efb84e191c3b"
      },
      "source": [
        "family"
      ],
      "execution_count": null,
      "outputs": [
        {
          "output_type": "execute_result",
          "data": {
            "text/plain": [
              "{'name1': 'melike', 'name2': 'yavuz', 'name3': 'leyla', 'name4': 'zafer'}"
            ]
          },
          "metadata": {
            "tags": []
          },
          "execution_count": 4
        }
      ]
    },
    {
      "cell_type": "code",
      "metadata": {
        "id": "-jZabcZCEpMi"
      },
      "source": [
        "sayılar = {\"tek\" : [],\n",
        "           \"cift\" : []}\n",
        "           "
      ],
      "execution_count": null,
      "outputs": []
    },
    {
      "cell_type": "code",
      "metadata": {
        "id": "q9DaaLMgEpdq"
      },
      "source": [
        "sayılar\n"
      ],
      "execution_count": null,
      "outputs": []
    },
    {
      "cell_type": "code",
      "metadata": {
        "id": "lU0SvC9GEp1V"
      },
      "source": [
        "cisimler = {\"cisim1\" : \"mouse\", \"cisim2\" : \"havlu\"}\n"
      ],
      "execution_count": null,
      "outputs": []
    },
    {
      "cell_type": "code",
      "metadata": {
        "id": "W1RnU0HkEqfv"
      },
      "source": [
        "cisimler"
      ],
      "execution_count": null,
      "outputs": []
    },
    {
      "cell_type": "code",
      "metadata": {
        "id": "q_LPNE-LEqw5"
      },
      "source": [
        ""
      ],
      "execution_count": null,
      "outputs": []
    },
    {
      "cell_type": "code",
      "metadata": {
        "id": "sWVyeUm5ap-C"
      },
      "source": [
        "dict_by_dict = {'animal':'dog',\n",
        "\t\t\t'planet': 'Neptun',\n",
        "\t\t\t'number': 40,\n",
        "\t\t\t'pi':3.14,\n",
        "\t\t\t'is_good': True}\n",
        "      "
      ],
      "execution_count": null,
      "outputs": []
    },
    {
      "cell_type": "code",
      "metadata": {
        "id": "kfn9Y3vGarLP"
      },
      "source": [
        "dict_by_dict"
      ],
      "execution_count": null,
      "outputs": []
    },
    {
      "cell_type": "code",
      "metadata": {
        "id": "SoIJ--x-arpP"
      },
      "source": [
        ""
      ],
      "execution_count": null,
      "outputs": []
    },
    {
      "cell_type": "code",
      "metadata": {
        "id": "iKiblclBasB3"
      },
      "source": [
        "school_records={\n",
        "\t'personal_info':\n",
        "\t\t{'kid':{'tom':{'class':'intermediate', 'age':10},\n",
        "\t\t\t'sue':{'class':'elemantary', 'age':8}\n",
        "\t\t\t},\n",
        "\t\t'teen':{'joseph':{'class':'college', 'age':19},\n",
        "\t\t\t'marry':{'class':'high school', 'age':16}\n",
        "\t\t\t},\n",
        "\t\t},\n",
        "\t'grades_info':\n",
        "\t\t{'kid':{'tom':{'math':88, 'speech':69},\n",
        "\t\t\t'sue':{'math':90, 'speech':81}\n",
        "\t\t\t},\n",
        "\t\t'teen':{'joseph':{'coding':80, 'math':89},\n",
        "\t\t\t'marry':{'coding':70, 'math':96}\n",
        "\t\t\t},\n",
        "\t\t}\n",
        "}"
      ],
      "execution_count": null,
      "outputs": []
    },
    {
      "cell_type": "code",
      "metadata": {
        "id": "p2ihp5thqECJ"
      },
      "source": [
        ""
      ],
      "execution_count": null,
      "outputs": []
    },
    {
      "cell_type": "code",
      "metadata": {
        "colab": {
          "base_uri": "https://localhost:8080/"
        },
        "id": "ntlR8vO4f5HP",
        "outputId": "ebe77729-67a3-4df9-9942-ea938e072a6f"
      },
      "source": [
        "len(school_records)"
      ],
      "execution_count": null,
      "outputs": [
        {
          "output_type": "execute_result",
          "data": {
            "text/plain": [
              "2"
            ]
          },
          "metadata": {
            "tags": []
          },
          "execution_count": 15
        }
      ]
    },
    {
      "cell_type": "code",
      "metadata": {
        "id": "tp4I5TXZn62_"
      },
      "source": [
        "flowerset1 = {'carnation', 'orchid', 'rose', 'violet'}\n",
        "\n",
        "flower2 = {'rose', 'orchid', 'rose', 'violet', 'carnation'}\n"
      ],
      "execution_count": null,
      "outputs": []
    },
    {
      "cell_type": "code",
      "metadata": {
        "id": "E8ZUvWt2n7gw",
        "colab": {
          "base_uri": "https://localhost:8080/"
        },
        "outputId": "3e8d55fd-fc4d-4023-d050-66b64ff9bccb"
      },
      "source": [
        "print(flowerset1)\n",
        "print(flower2)"
      ],
      "execution_count": null,
      "outputs": [
        {
          "output_type": "stream",
          "text": [
            "{'rose', 'carnation', 'orchid', 'violet'}\n",
            "{'rose', 'carnation', 'orchid', 'violet'}\n"
          ],
          "name": "stdout"
        }
      ]
    },
    {
      "cell_type": "code",
      "metadata": {
        "id": "2P_QehRIn79h"
      },
      "source": [
        "letter = \"a b c d e f g h i j l k\".split()"
      ],
      "execution_count": null,
      "outputs": []
    },
    {
      "cell_type": "code",
      "metadata": {
        "id": "HbFktbImn8Zf",
        "colab": {
          "base_uri": "https://localhost:8080/"
        },
        "outputId": "acf0a394-c67c-4afd-84cf-a0ac9ee176f9"
      },
      "source": [
        "print(letter)\n"
      ],
      "execution_count": null,
      "outputs": [
        {
          "output_type": "stream",
          "text": [
            "['a', 'b', 'c', 'd', 'e', 'f', 'g', 'h', 'i', 'j', 'l', 'k']\n"
          ],
          "name": "stdout"
        }
      ]
    },
    {
      "cell_type": "code",
      "metadata": {
        "colab": {
          "base_uri": "https://localhost:8080/"
        },
        "id": "oREySw07uswz",
        "outputId": "7188a2b8-2a92-48cd-e453-4b249b5025f4"
      },
      "source": [
        "print (set(letter))\n"
      ],
      "execution_count": null,
      "outputs": [
        {
          "output_type": "stream",
          "text": [
            "{'i', 'b', 'c', 'h', 'a', 'k', 'f', 'g', 'l', 'd', 'e', 'j'}\n"
          ],
          "name": "stdout"
        }
      ]
    },
    {
      "cell_type": "code",
      "metadata": {
        "id": "3Iam2N9Xutaw"
      },
      "source": [
        "a = {'carnation', 'orchid', 'rose', 'violet'} \n",
        "b = {'rose', 'orchid', 'rose', 'violet', 'carnation'}"
      ],
      "execution_count": null,
      "outputs": []
    },
    {
      "cell_type": "code",
      "metadata": {
        "id": "cAr8V2xwn8yS"
      },
      "source": [
        "a == b"
      ],
      "execution_count": null,
      "outputs": []
    },
    {
      "cell_type": "code",
      "metadata": {
        "id": "2nBIDyxEf55L"
      },
      "source": [
        ""
      ],
      "execution_count": null,
      "outputs": []
    },
    {
      "cell_type": "code",
      "metadata": {
        "id": "qBt9GCZZCQJT"
      },
      "source": [
        "minced = True\n",
        "bread = True\n",
        "#GREEN\n",
        "lettuce = True\n",
        "onion = True\n",
        "grocer = True"
      ],
      "execution_count": null,
      "outputs": []
    },
    {
      "cell_type": "code",
      "metadata": {
        "id": "JM0ocr17CQ68"
      },
      "source": [
        "hamburger = (minced and grocer and bread) and (lettuce or onion)"
      ],
      "execution_count": null,
      "outputs": []
    },
    {
      "cell_type": "code",
      "metadata": {
        "colab": {
          "base_uri": "https://localhost:8080/"
        },
        "id": "f1rWXU6dCRs-",
        "outputId": "093b34f6-829c-4f97-a805-ac67d9141d04"
      },
      "source": [
        "if hamburger :\n",
        "    print(\"Bon Appetit!\")"
      ],
      "execution_count": null,
      "outputs": [
        {
          "output_type": "stream",
          "text": [
            "Bon Appetit!\n"
          ],
          "name": "stdout"
        }
      ]
    },
    {
      "cell_type": "code",
      "metadata": {
        "id": "HWp12S2_CSGF"
      },
      "source": [
        "a = set(\"TWELVE PLUS ONE\")\n",
        "b = set(\"ELEVEN PLUS TWO\")"
      ],
      "execution_count": null,
      "outputs": []
    },
    {
      "cell_type": "code",
      "metadata": {
        "colab": {
          "base_uri": "https://localhost:8080/"
        },
        "id": "nN--P8PeCSeZ",
        "outputId": "bfd0408f-0912-416a-ea98-07d5b50e8ef0"
      },
      "source": [
        "a"
      ],
      "execution_count": null,
      "outputs": [
        {
          "output_type": "execute_result",
          "data": {
            "text/plain": [
              "{' ', 'E', 'L', 'N', 'O', 'P', 'S', 'T', 'U', 'V', 'W'}"
            ]
          },
          "metadata": {
            "tags": []
          },
          "execution_count": 20
        }
      ]
    },
    {
      "cell_type": "code",
      "metadata": {
        "colab": {
          "base_uri": "https://localhost:8080/"
        },
        "id": "1OFnROrhCTCv",
        "outputId": "cb74a34f-4a2a-458d-99eb-d050f16a90d4"
      },
      "source": [
        "b"
      ],
      "execution_count": null,
      "outputs": [
        {
          "output_type": "execute_result",
          "data": {
            "text/plain": [
              "{' ', 'E', 'L', 'N', 'O', 'P', 'S', 'T', 'U', 'V', 'W'}"
            ]
          },
          "metadata": {
            "tags": []
          },
          "execution_count": 21
        }
      ]
    },
    {
      "cell_type": "code",
      "metadata": {
        "id": "YMR1tc5nf6dj",
        "colab": {
          "base_uri": "https://localhost:8080/"
        },
        "outputId": "e6f367e2-4e34-49c0-8f79-8c1fec52c882"
      },
      "source": [
        "a == b"
      ],
      "execution_count": null,
      "outputs": [
        {
          "output_type": "execute_result",
          "data": {
            "text/plain": [
              "True"
            ]
          },
          "metadata": {
            "tags": []
          },
          "execution_count": 22
        }
      ]
    },
    {
      "cell_type": "code",
      "metadata": {
        "id": "-82QmsGJUwme",
        "colab": {
          "base_uri": "https://localhost:8080/"
        },
        "outputId": "0cef1c4b-bcf4-43d5-82ee-8e5d4714a416"
      },
      "source": [
        "score = int(input(\"Enter your score :\"))\n"
      ],
      "execution_count": null,
      "outputs": [
        {
          "output_type": "stream",
          "text": [
            "Enter your score :75\n"
          ],
          "name": "stdout"
        }
      ]
    },
    {
      "cell_type": "code",
      "metadata": {
        "id": "zO5AfMBwPUt9",
        "colab": {
          "base_uri": "https://localhost:8080/"
        },
        "outputId": "450dfedd-0d20-4e16-83f5-984332ad3396"
      },
      "source": [
        "if score >= 90:\n",
        "      if score >= 95:\n",
        "            score_letter=\"A+\"\n",
        "      else: \n",
        "            score_letter=\"A\"\n",
        "elif score >= 80:\n",
        "      if score >= 85:\n",
        "            score_letter=\"B+\"\n",
        "      else:\n",
        "            score_letter=\"B\"\n",
        "else:\n",
        "      score_letter=\"below B\"  \n",
        "print (\"YOUR DEGREE:%s\" % score_letter)                                      \n"
      ],
      "execution_count": null,
      "outputs": [
        {
          "output_type": "stream",
          "text": [
            "YOUR DEGREE:below B\n"
          ],
          "name": "stdout"
        }
      ]
    },
    {
      "cell_type": "code",
      "metadata": {
        "id": "8BJDWtEWPVdb"
      },
      "source": [
        "num1 = float(input(\"Enter the first number please : \"))\n",
        "num2 = float(input(\"Enter the second number please : \"))\n",
        "\n",
        "if num1>num2 :\n",
        "      large = num1\n",
        "else :\n",
        "      larger = num2\n",
        "print(\"the larger number is :\", larger)            "
      ],
      "execution_count": null,
      "outputs": []
    },
    {
      "cell_type": "code",
      "metadata": {
        "id": "SMdKnzL5PV2y"
      },
      "source": [
        ""
      ],
      "execution_count": null,
      "outputs": []
    },
    {
      "cell_type": "code",
      "metadata": {
        "id": "VZkhEGnoalbo"
      },
      "source": [
        "items = (10, 20)"
      ],
      "execution_count": null,
      "outputs": []
    },
    {
      "cell_type": "code",
      "metadata": {
        "id": "IkV9Xy4-al2p"
      },
      "source": [
        "x, y = items"
      ],
      "execution_count": null,
      "outputs": []
    },
    {
      "cell_type": "code",
      "metadata": {
        "colab": {
          "base_uri": "https://localhost:8080/"
        },
        "id": "gE85UEE3amRU",
        "outputId": "8e6a99ba-bb6e-470e-a604-fe089a827d25"
      },
      "source": [
        "x"
      ],
      "execution_count": null,
      "outputs": [
        {
          "output_type": "execute_result",
          "data": {
            "text/plain": [
              "10"
            ]
          },
          "metadata": {
            "tags": []
          },
          "execution_count": 7
        }
      ]
    },
    {
      "cell_type": "code",
      "metadata": {
        "colab": {
          "base_uri": "https://localhost:8080/"
        },
        "id": "8QsGT9_Samt_",
        "outputId": "958719fe-47cf-419b-fbf0-b6b458bf9b03"
      },
      "source": [
        "y"
      ],
      "execution_count": null,
      "outputs": [
        {
          "output_type": "execute_result",
          "data": {
            "text/plain": [
              "20"
            ]
          },
          "metadata": {
            "tags": []
          },
          "execution_count": 8
        }
      ]
    },
    {
      "cell_type": "code",
      "metadata": {
        "id": "cbxjs5XnanFQ"
      },
      "source": [
        ""
      ],
      "execution_count": null,
      "outputs": []
    },
    {
      "cell_type": "code",
      "metadata": {
        "id": "-0AtXeEIbGMo"
      },
      "source": [
        "a, _, b, _ = (10, 20, 30, 40)"
      ],
      "execution_count": null,
      "outputs": []
    },
    {
      "cell_type": "code",
      "metadata": {
        "colab": {
          "base_uri": "https://localhost:8080/"
        },
        "id": "wrDnDcwGbGsz",
        "outputId": "f29cd07d-ff24-4fb1-d7aa-60b964e4d8c1"
      },
      "source": [
        "a"
      ],
      "execution_count": null,
      "outputs": [
        {
          "output_type": "execute_result",
          "data": {
            "text/plain": [
              "10"
            ]
          },
          "metadata": {
            "tags": []
          },
          "execution_count": 10
        }
      ]
    },
    {
      "cell_type": "code",
      "metadata": {
        "colab": {
          "base_uri": "https://localhost:8080/"
        },
        "id": "lsvk4mGXbHTZ",
        "outputId": "bb2cebcc-dd0d-45e4-c09c-a1263e61c6bc"
      },
      "source": [
        "b"
      ],
      "execution_count": null,
      "outputs": [
        {
          "output_type": "execute_result",
          "data": {
            "text/plain": [
              "30"
            ]
          },
          "metadata": {
            "tags": []
          },
          "execution_count": 11
        }
      ]
    },
    {
      "cell_type": "code",
      "metadata": {
        "colab": {
          "base_uri": "https://localhost:8080/"
        },
        "id": "JvakNgaNbIT6",
        "outputId": "fb0b98a9-4836-4c43-e968-e964630d1a4a"
      },
      "source": [
        "print(a, b, _)"
      ],
      "execution_count": null,
      "outputs": [
        {
          "output_type": "stream",
          "text": [
            "10 30 30\n"
          ],
          "name": "stdout"
        }
      ]
    },
    {
      "cell_type": "code",
      "metadata": {
        "id": "eDNP8VjXbIm-"
      },
      "source": [
        "x, y, z = (11, 22, 33, 44, 55)"
      ],
      "execution_count": null,
      "outputs": []
    },
    {
      "cell_type": "code",
      "metadata": {
        "id": "GQV32Ab-PWnR"
      },
      "source": [
        ""
      ],
      "execution_count": null,
      "outputs": []
    },
    {
      "cell_type": "code",
      "metadata": {
        "id": "g3a8OIHNPXp3",
        "colab": {
          "base_uri": "https://localhost:8080/"
        },
        "outputId": "5e5d24c2-6797-4079-e421-6d5bee821d5b"
      },
      "source": [
        "fruits = ['Apples', 'Oranges', 'Bananas']\n",
        "quantities = [5, 3, 4]\n",
        "prices = [1.50, 2.25, 0.89]\n",
        "output=[]\n",
        "fruit_tuple_0 = (fruits[0], quantities[0], prices[0])\n",
        "output.append(output)\n",
        "fruit_tuple_1 = (fruits[1], quantities[1], prices[1])\n",
        "output.append(output)\n",
        "fruit_tuple_2 = (fruits[2], quantities[2], prices[2])\n",
        "output.append(output)\n",
        "print(fruit_tuple_0, fruit_tuple_1, fruit_tuple_2)"
      ],
      "execution_count": null,
      "outputs": [
        {
          "output_type": "stream",
          "text": [
            "('Apples', 5, 1.5) ('Oranges', 3, 2.25) ('Bananas', 4, 0.89)\n"
          ],
          "name": "stdout"
        }
      ]
    },
    {
      "cell_type": "code",
      "metadata": {
        "colab": {
          "base_uri": "https://localhost:8080/"
        },
        "id": "n21i0x-16ITh",
        "outputId": "abca6139-5866-49c9-eee3-c9f37e7ce5aa"
      },
      "source": [
        "fruits = ['Apples', 'Oranges', 'Bananas']\n",
        "quantities = [5, 3, 4]\n",
        "prices = [1.50, 2.25, 0.89]\n",
        "i = 0\n",
        "output = []\n",
        "for fruit in fruits:\n",
        "    temp_qty = quantities[i]\n",
        "    temp_price = prices[i]\n",
        "    output.append((fruit, temp_qty, temp_price))\n",
        "    i += 1\n",
        "print(output)    \n"
      ],
      "execution_count": null,
      "outputs": [
        {
          "output_type": "stream",
          "text": [
            "[('Apples', 5, 1.5), ('Oranges', 3, 2.25), ('Bananas', 4, 0.89)]\n"
          ],
          "name": "stdout"
        }
      ]
    },
    {
      "cell_type": "code",
      "metadata": {
        "colab": {
          "base_uri": "https://localhost:8080/"
        },
        "id": "iRi7Bc4Y6IsV",
        "outputId": "4c26c158-8d08-4fda-dba6-46bc95d2ac10"
      },
      "source": [
        "fruits = ['Apples', 'Oranges', 'Bananas']\n",
        "quantities = [5, 3, 4]\n",
        "prices = [1.50, 2.25, 0.89]\n",
        "groceries = zip(fruits, quantities, prices)\n",
        "print(list(groceries))"
      ],
      "execution_count": null,
      "outputs": [
        {
          "output_type": "stream",
          "text": [
            "[('Apples', 5, 1.5), ('Oranges', 3, 2.25), ('Bananas', 4, 0.89)]\n"
          ],
          "name": "stdout"
        }
      ]
    },
    {
      "cell_type": "code",
      "metadata": {
        "colab": {
          "base_uri": "https://localhost:8080/"
        },
        "id": "GWmhL56N6JCD",
        "outputId": "f7b6c21f-a63c-416f-bc65-0138729e2261"
      },
      "source": [
        "fruits = ['Apples', 'Oranges', 'Bananas']\n",
        "quantities = [5, 3, 4]\n",
        "prices = [1.50, 2.25, 0.89]\n",
        "i = 0\n",
        "output = []\n",
        "for fruit in fruits:\n",
        "  for qty in quantities:\n",
        "    for price in prices:\n",
        "        output.append((fruit, qty, price))\n",
        "  i += 1\n",
        "print(output)"
      ],
      "execution_count": null,
      "outputs": [
        {
          "output_type": "stream",
          "text": [
            "[('Apples', 5, 1.5), ('Apples', 5, 2.25), ('Apples', 5, 0.89), ('Apples', 3, 1.5), ('Apples', 3, 2.25), ('Apples', 3, 0.89), ('Apples', 4, 1.5), ('Apples', 4, 2.25), ('Apples', 4, 0.89), ('Oranges', 5, 1.5), ('Oranges', 5, 2.25), ('Oranges', 5, 0.89), ('Oranges', 3, 1.5), ('Oranges', 3, 2.25), ('Oranges', 3, 0.89), ('Oranges', 4, 1.5), ('Oranges', 4, 2.25), ('Oranges', 4, 0.89), ('Bananas', 5, 1.5), ('Bananas', 5, 2.25), ('Bananas', 5, 0.89), ('Bananas', 3, 1.5), ('Bananas', 3, 2.25), ('Bananas', 3, 0.89), ('Bananas', 4, 1.5), ('Bananas', 4, 2.25), ('Bananas', 4, 0.89)]\n"
          ],
          "name": "stdout"
        }
      ]
    },
    {
      "cell_type": "code",
      "metadata": {
        "id": "PDui4X2O6JkB"
      },
      "source": [
        ""
      ],
      "execution_count": null,
      "outputs": []
    },
    {
      "cell_type": "code",
      "metadata": {
        "id": "8NDog0Oc6J6d"
      },
      "source": [
        ""
      ],
      "execution_count": null,
      "outputs": []
    },
    {
      "cell_type": "code",
      "metadata": {
        "id": "Mo8_eo6L6KKV",
        "colab": {
          "base_uri": "https://localhost:8080/"
        },
        "outputId": "be16aec7-d5a4-44e0-edc7-5a0ea7696150"
      },
      "source": [
        "sayı = int(input(\"Please enter you number :\"))\n",
        "asalmi = True\n",
        "if sayı <= 1:\n",
        "    asalmi = False\n",
        "for i in range (2, sayı):\n",
        "    if (sayı % i == 0) :\n",
        "        asalmi = False\n",
        "        break\n",
        "if asalmi:\n",
        "    print(\"girilen sayı asaldır..\")\n",
        "else :\n",
        "    print(\"sayı asal değildir...\")"
      ],
      "execution_count": null,
      "outputs": [
        {
          "output_type": "stream",
          "text": [
            "Please enter you number :6\n",
            "sayı asal değildir...\n"
          ],
          "name": "stdout"
        }
      ]
    },
    {
      "cell_type": "code",
      "metadata": {
        "id": "FDYC1FT06Kjt"
      },
      "source": [
        ""
      ],
      "execution_count": null,
      "outputs": []
    },
    {
      "cell_type": "code",
      "metadata": {
        "id": "dxCHO1ZJ6K59",
        "colab": {
          "base_uri": "https://localhost:8080/",
          "height": 129
        },
        "outputId": "d5a12007-cc0c-4c13-d2e0-e1336dad1ba2"
      },
      "source": [
        "answer = 44 \n",
        "\n",
        " question = 'what number am I thinking of?'\n",
        " print(\"Let's play the guessing game!\")"
      ],
      "execution_count": null,
      "outputs": [
        {
          "output_type": "error",
          "ename": "IndentationError",
          "evalue": "ignored",
          "traceback": [
            "\u001b[0;36m  File \u001b[0;32m\"<ipython-input-5-a417d0ff3700>\"\u001b[0;36m, line \u001b[0;32m3\u001b[0m\n\u001b[0;31m    question = 'what number am I thinking of?'\u001b[0m\n\u001b[0m    ^\u001b[0m\n\u001b[0;31mIndentationError\u001b[0m\u001b[0;31m:\u001b[0m unexpected indent\n"
          ]
        }
      ]
    },
    {
      "cell_type": "code",
      "metadata": {
        "id": "UrUsl1HKcGTA",
        "colab": {
          "base_uri": "https://localhost:8080/",
          "height": 231
        },
        "outputId": "4be0c8cd-aca9-49a4-f8a6-f557d8d5082d"
      },
      "source": [
        "while True:\n",
        "  guess = int(input(question))\n",
        "  if guess < answer: \n",
        "    print ('little higher')\n",
        "  elif guess > answer: \n",
        "    print ('little lower')\n",
        "  else :  # guess == answer  \n",
        "      print ('Are you a MINDREADER')\n",
        "      break"
      ],
      "execution_count": null,
      "outputs": [
        {
          "output_type": "error",
          "ename": "NameError",
          "evalue": "ignored",
          "traceback": [
            "\u001b[0;31m---------------------------------------------------------------------------\u001b[0m",
            "\u001b[0;31mNameError\u001b[0m                                 Traceback (most recent call last)",
            "\u001b[0;32m<ipython-input-6-effbab295a1f>\u001b[0m in \u001b[0;36m<module>\u001b[0;34m()\u001b[0m\n\u001b[1;32m      1\u001b[0m \u001b[0;32mwhile\u001b[0m \u001b[0;32mTrue\u001b[0m\u001b[0;34m:\u001b[0m\u001b[0;34m\u001b[0m\u001b[0;34m\u001b[0m\u001b[0m\n\u001b[0;32m----> 2\u001b[0;31m   \u001b[0mguess\u001b[0m \u001b[0;34m=\u001b[0m \u001b[0mint\u001b[0m\u001b[0;34m(\u001b[0m\u001b[0minput\u001b[0m\u001b[0;34m(\u001b[0m\u001b[0mquestion\u001b[0m\u001b[0;34m)\u001b[0m\u001b[0;34m)\u001b[0m\u001b[0;34m\u001b[0m\u001b[0;34m\u001b[0m\u001b[0m\n\u001b[0m\u001b[1;32m      3\u001b[0m   \u001b[0;32mif\u001b[0m \u001b[0mguess\u001b[0m \u001b[0;34m<\u001b[0m \u001b[0manswer\u001b[0m\u001b[0;34m:\u001b[0m\u001b[0;34m\u001b[0m\u001b[0;34m\u001b[0m\u001b[0m\n\u001b[1;32m      4\u001b[0m     \u001b[0mprint\u001b[0m \u001b[0;34m(\u001b[0m\u001b[0;34m'little higher'\u001b[0m\u001b[0;34m)\u001b[0m\u001b[0;34m\u001b[0m\u001b[0;34m\u001b[0m\u001b[0m\n\u001b[1;32m      5\u001b[0m   \u001b[0;32melif\u001b[0m \u001b[0mguess\u001b[0m \u001b[0;34m>\u001b[0m \u001b[0manswer\u001b[0m\u001b[0;34m:\u001b[0m\u001b[0;34m\u001b[0m\u001b[0;34m\u001b[0m\u001b[0m\n",
            "\u001b[0;31mNameError\u001b[0m: name 'question' is not defined"
          ]
        }
      ]
    },
    {
      "cell_type": "code",
      "metadata": {
        "id": "5-5fHGgYcHCl"
      },
      "source": [
        ""
      ],
      "execution_count": null,
      "outputs": []
    },
    {
      "cell_type": "code",
      "metadata": {
        "id": "9Z0naHcYcH8a",
        "colab": {
          "base_uri": "https://localhost:8080/"
        },
        "outputId": "494dc492-3dba-48ce-812d-0f99f1e41cf5"
      },
      "source": [
        "for i in {'n1' : 'one', 'n2' : 'two'} : print(i)"
      ],
      "execution_count": null,
      "outputs": [
        {
          "output_type": "stream",
          "text": [
            "n1\n",
            "n2\n"
          ],
          "name": "stdout"
        }
      ]
    },
    {
      "cell_type": "code",
      "metadata": {
        "id": "5g9pHrEEydJt"
      },
      "source": [
        ""
      ],
      "execution_count": null,
      "outputs": []
    },
    {
      "cell_type": "code",
      "metadata": {
        "id": "mmG4-CbScIrH",
        "colab": {
          "base_uri": "https://localhost:8080/"
        },
        "outputId": "e96821b6-6d87-4014-9393-ef3e2e9adf95"
      },
      "source": [
        "find_odd = ([20, 1, 1, 1, 1, 1, 2, 2, 3, 3, 5, 5, 4, 20, 4, 5, 7, 7, 7])\n",
        "list = []\n",
        "for i in find_odd:\n",
        "    if find_odd.count(i) % 2 != 0:\n",
        "        list.append(i)\n",
        "print(set(list))"
      ],
      "execution_count": null,
      "outputs": [
        {
          "output_type": "stream",
          "text": [
            "{1, 5, 7}\n"
          ],
          "name": "stdout"
        }
      ]
    },
    {
      "cell_type": "markdown",
      "metadata": {
        "id": "vyb_XEnHlLF6"
      },
      "source": [
        "\n",
        "\n",
        "*   Liste öğesi\n",
        "*   Liste öğesi\n",
        "\n"
      ]
    },
    {
      "cell_type": "code",
      "metadata": {
        "id": "VotM4vUucJWi"
      },
      "source": [
        ""
      ],
      "execution_count": null,
      "outputs": []
    },
    {
      "cell_type": "code",
      "metadata": {
        "id": "iRTU8aD0cKyu",
        "colab": {
          "base_uri": "https://localhost:8080/"
        },
        "outputId": "d987dd76-d5bc-487d-b12c-b7ff292f56b5"
      },
      "source": [
        "lst = [1, 2, 3, 4, 5, 6]\n",
        "a, *b, c = [1, 2, 3, 4, 5, 6]\n",
        "print(b, a, c)\n",
        "print(a)\n",
        "print(c)     #edabit"
      ],
      "execution_count": null,
      "outputs": [
        {
          "output_type": "stream",
          "text": [
            "[2, 3, 4, 5] 1 6\n",
            "1\n",
            "6\n"
          ],
          "name": "stdout"
        }
      ]
    },
    {
      "cell_type": "code",
      "metadata": {
        "id": "hjTHUidMcLsx",
        "colab": {
          "base_uri": "https://localhost:8080/"
        },
        "outputId": "2b7604f0-6883-430a-b189-d29aad2c37b5"
      },
      "source": [
        "x = int(input(\"bir sayı giriniz :\"))\n",
        "y = 2 ** x + 1\n",
        "z = 2 * x + 1\n",
        "if y % z == 0 :\n",
        "    print(\"girilen sayı sizi çarpar..\")\n",
        "else :\n",
        "    print(\" zaten senden hayır bekleyende kabahat..\")"
      ],
      "execution_count": null,
      "outputs": [
        {
          "output_type": "stream",
          "text": [
            "bir sayı giriniz :5\n",
            "girilen sayı sizi çarpar..\n"
          ],
          "name": "stdout"
        }
      ]
    },
    {
      "cell_type": "code",
      "metadata": {
        "id": "Sd59Ym1icMqW"
      },
      "source": [
        ""
      ],
      "execution_count": null,
      "outputs": []
    },
    {
      "cell_type": "code",
      "metadata": {
        "id": "-VUZI2gYcN7U",
        "colab": {
          "base_uri": "https://localhost:8080/"
        },
        "outputId": "97310cd7-1aab-4e58-dccb-7c22c8008eea"
      },
      "source": [
        "x  = input(\"bir sayı girin :\")\n",
        "power = 1\n",
        "sum = 0\n",
        "for i in x :\n",
        "    sum += int(i) ** power\n",
        "    power += 1\n",
        "if int (x) == sum :\n",
        "    print(True)\n",
        "else :\n",
        "    print(False)"
      ],
      "execution_count": null,
      "outputs": [
        {
          "output_type": "stream",
          "text": [
            "bir sayı girin :135\n",
            "True\n"
          ],
          "name": "stdout"
        }
      ]
    },
    {
      "cell_type": "code",
      "metadata": {
        "id": "q6AwQwVtcPEp"
      },
      "source": [
        ""
      ],
      "execution_count": null,
      "outputs": []
    },
    {
      "cell_type": "code",
      "metadata": {
        "id": "R1gbM5q4cP8m"
      },
      "source": [
        ""
      ],
      "execution_count": null,
      "outputs": []
    },
    {
      "cell_type": "code",
      "metadata": {
        "id": "Zg_nelBscRAW"
      },
      "source": [
        ""
      ],
      "execution_count": null,
      "outputs": []
    },
    {
      "cell_type": "code",
      "metadata": {
        "id": "gyjf0j-bcV15"
      },
      "source": [
        ""
      ],
      "execution_count": null,
      "outputs": []
    },
    {
      "cell_type": "code",
      "metadata": {
        "id": "5_x49P_zcWnX"
      },
      "source": [
        ""
      ],
      "execution_count": null,
      "outputs": []
    },
    {
      "cell_type": "code",
      "metadata": {
        "id": "k-hxQ36TcXld"
      },
      "source": [
        ""
      ],
      "execution_count": null,
      "outputs": []
    },
    {
      "cell_type": "code",
      "metadata": {
        "id": "TxwYzSgIcYTK"
      },
      "source": [
        ""
      ],
      "execution_count": null,
      "outputs": []
    },
    {
      "cell_type": "markdown",
      "metadata": {
        "id": "p_noWG1nu011"
      },
      "source": [
        ""
      ]
    },
    {
      "cell_type": "code",
      "metadata": {
        "id": "eQisNuIyu2PO"
      },
      "source": [
        ""
      ],
      "execution_count": null,
      "outputs": []
    },
    {
      "cell_type": "code",
      "metadata": {
        "colab": {
          "base_uri": "https://localhost:8080/"
        },
        "id": "7F3ER_mIu23X",
        "outputId": "cd7c22dc-2aa9-4598-cca1-35fe655ebe7c"
      },
      "source": [
        "rows = 5\n",
        "for i in range(0, rows):\n",
        "    for j in range(0, i + 1):\n",
        "        print(\"*\", end=' ')\n",
        "    print(\"\\r\")\n",
        "for i in range(rows, 0, -1):\n",
        "    for j in range(0, i - 1):\n",
        "        print(\"*\", end=' ')\n",
        "    print(\"\\r\")\n"
      ],
      "execution_count": null,
      "outputs": [
        {
          "output_type": "stream",
          "text": [
            "* \r\n",
            "* * \r\n",
            "* * * \r\n",
            "* * * * \r\n",
            "* * * * * \r\n",
            "* * * * \r\n",
            "* * * \r\n",
            "* * \r\n",
            "* \r\n",
            "\r\n"
          ],
          "name": "stdout"
        }
      ]
    },
    {
      "cell_type": "code",
      "metadata": {
        "id": "hmz6ZfSsu3Po"
      },
      "source": [
        "names = [\"Ahmed\", \"Aisha\", \"Adam\", \"Joseph\", \"Gabriel\"]"
      ],
      "execution_count": null,
      "outputs": []
    },
    {
      "cell_type": "code",
      "metadata": {
        "id": "FBSucjd2u3kv",
        "colab": {
          "base_uri": "https://localhost:8080/"
        },
        "outputId": "0838d247-f446-4a49-8d4f-26778a6871f7"
      },
      "source": [
        "for i in names :\n",
        "    print (\"hello\", i)"
      ],
      "execution_count": null,
      "outputs": [
        {
          "output_type": "stream",
          "text": [
            "hello Ahmed\n",
            "hello Aisha\n",
            "hello Adam\n",
            "hello Joseph\n",
            "hello Gabriel\n"
          ],
          "name": "stdout"
        }
      ]
    },
    {
      "cell_type": "code",
      "metadata": {
        "id": "lq1hXWQZu35M"
      },
      "source": [
        ""
      ],
      "execution_count": null,
      "outputs": []
    },
    {
      "cell_type": "code",
      "metadata": {
        "id": "Fp8IOKqwGmuC",
        "colab": {
          "base_uri": "https://localhost:8080/"
        },
        "outputId": "af6057f1-6c8f-4d73-c2b9-7bb5bc1265a1"
      },
      "source": [
        "n = int(input('enter a number between 1-10'))\n",
        "\n",
        "for i in range(11):\n",
        "    print('{}x{} = '.format(n, i), n*i)"
      ],
      "execution_count": null,
      "outputs": [
        {
          "output_type": "stream",
          "text": [
            "enter a number between 1-105\n",
            "5x0 =  0\n",
            "5x1 =  5\n",
            "5x2 =  10\n",
            "5x3 =  15\n",
            "5x4 =  20\n",
            "5x5 =  25\n",
            "5x6 =  30\n",
            "5x7 =  35\n",
            "5x8 =  40\n",
            "5x9 =  45\n",
            "5x10 =  50\n"
          ],
          "name": "stdout"
        }
      ]
    },
    {
      "cell_type": "code",
      "metadata": {
        "id": "hdj40lLTGnIH",
        "colab": {
          "base_uri": "https://localhost:8080/"
        },
        "outputId": "ab7c2957-ba5b-4aba-afbe-e492e66d80b1"
      },
      "source": [
        "times = int(input(\"How many times should I say 'I love you'\"))\n",
        "\n",
        "for i in range(times):\n",
        "    print('I love you')"
      ],
      "execution_count": null,
      "outputs": [
        {
          "output_type": "stream",
          "text": [
            "How many times should I say 'I love you'6\n",
            "I love you\n",
            "I love you\n",
            "I love you\n",
            "I love you\n",
            "I love you\n",
            "I love you\n"
          ],
          "name": "stdout"
        }
      ]
    },
    {
      "cell_type": "code",
      "metadata": {
        "id": "EBCr5bqzGns6"
      },
      "source": [
        "n = int(input('enter a number between 1-10'))\n",
        "\n",
        "for i in range(11):\n",
        "    print('{}%{} = '.format(n, i), n%i)"
      ],
      "execution_count": null,
      "outputs": []
    },
    {
      "cell_type": "code",
      "metadata": {
        "id": "Pxjdw52vGoCs"
      },
      "source": [
        ""
      ],
      "execution_count": null,
      "outputs": []
    },
    {
      "cell_type": "code",
      "metadata": {
        "id": "ESTo41EMGocH",
        "colab": {
          "base_uri": "https://localhost:8080/"
        },
        "outputId": "b2a77cd9-ca7a-45d7-f541-b92b890b6595"
      },
      "source": [
        "sayı = int(input(\"Please enter you number :\"))\n",
        "asalmi = True\n",
        "if sayı <= 1:\n",
        "    asalmi = False\n",
        "for i in range (2, sayı):\n",
        "    if (sayı % i == 0) :\n",
        "        asalmi = False\n",
        "        break\n",
        "if asalmi:\n",
        "    print(\"girilen sayı asaldır..\")\n",
        "else :\n",
        "    print(\"sayı asal değildir...\")"
      ],
      "execution_count": null,
      "outputs": [
        {
          "output_type": "stream",
          "text": [
            "Please enter you number :8\n",
            "sayı asal değildir...\n"
          ],
          "name": "stdout"
        }
      ]
    },
    {
      "cell_type": "code",
      "metadata": {
        "id": "ErcnKCUwu4PD"
      },
      "source": [
        ""
      ],
      "execution_count": null,
      "outputs": []
    },
    {
      "cell_type": "code",
      "metadata": {
        "id": "B6Xw1agGu4kE",
        "colab": {
          "base_uri": "https://localhost:8080/"
        },
        "outputId": "54aeec3a-39d4-436b-8da3-ce856644ae9f"
      },
      "source": [
        "num = [48, 10, 11, 21, 36, 5, 6, 52, 28, 29,\n",
        "       53, 54, 45, 19, 20, 47, 55, 39, 41, 7,\n",
        "       9, 17, 26, 27, 42, 22, 37, 51, 46, 18,\n",
        "       44, 30, 34, 13, 15, 35, 33, 16, 50, 24]\n",
        "for i in range(6, 55, 2):\n",
        "     if i not in num:\n",
        "         print(i)"
      ],
      "execution_count": null,
      "outputs": [
        {
          "output_type": "stream",
          "text": [
            "8\n",
            "12\n",
            "14\n",
            "32\n",
            "38\n",
            "40\n"
          ],
          "name": "stdout"
        }
      ]
    },
    {
      "cell_type": "code",
      "metadata": {
        "id": "aC06cjobu5Tj",
        "colab": {
          "base_uri": "https://localhost:8080/"
        },
        "outputId": "719a2ad1-0594-4248-b0de-61130246b9c8"
      },
      "source": [
        "row = int(input(\"sayı giriniz :\"))\n",
        "for i in range(0, row+1, 1):\n",
        "    print(\" * \" * i)\n",
        "for i in range(row-1, 0, -1):\n",
        "    print(\" * \" * i)"
      ],
      "execution_count": null,
      "outputs": [
        {
          "output_type": "stream",
          "text": [
            "sayı giriniz :5\n",
            "\n",
            " * \n",
            " *  * \n",
            " *  *  * \n",
            " *  *  *  * \n",
            " *  *  *  *  * \n",
            " *  *  *  * \n",
            " *  *  * \n",
            " *  * \n",
            " * \n"
          ],
          "name": "stdout"
        }
      ]
    },
    {
      "cell_type": "code",
      "metadata": {
        "id": "wm2L9-JCVFee"
      },
      "source": [
        ""
      ],
      "execution_count": null,
      "outputs": []
    },
    {
      "cell_type": "code",
      "metadata": {
        "id": "ld0tJlHeVF6F"
      },
      "source": [
        "What is an anagram? Well, two words are anagrams of each other if they both contain the same letters. For example:\n",
        "'abba' & 'baab' == true\n",
        "'abba' & 'bbaa' == true\n",
        "'abba' & 'abbba' == false\n",
        "'abba' & 'abca' == false\n",
        "Take two inputs from the user word and word list and then write code that will find all the anagrams of a word from a list. You should return a list of all the anagrams or an empty list if there are none. For example:\n",
        "input1:'abba'\n",
        "input2: ['aabb', 'abcd', 'bbaa', 'dada']) \n",
        "output: ['aabb', 'bbaa']\n",
        "input1:'racer'\n",
        "input2: ['crazer', 'carer', 'racar', 'caers', 'racer'])\n",
        "output: ['carer', 'racer']\n",
        "input1:'laser'\n",
        "input2:['lazing', 'lazy',  'lacer'])\n",
        "output:[]"
      ],
      "execution_count": null,
      "outputs": []
    },
    {
      "cell_type": "code",
      "metadata": {
        "id": "lFW79eKMVGe-"
      },
      "source": [
        ""
      ],
      "execution_count": null,
      "outputs": []
    },
    {
      "cell_type": "code",
      "metadata": {
        "id": "Daaxa4HTVG5J"
      },
      "source": [
        ""
      ],
      "execution_count": null,
      "outputs": []
    },
    {
      "cell_type": "code",
      "metadata": {
        "id": "z1SmEVbCVHN2"
      },
      "source": [
        ""
      ],
      "execution_count": null,
      "outputs": []
    },
    {
      "cell_type": "code",
      "metadata": {
        "id": "iLosp6NSVHkj"
      },
      "source": [
        ""
      ],
      "execution_count": null,
      "outputs": []
    },
    {
      "cell_type": "code",
      "metadata": {
        "id": "jEEKk2eiVH5z"
      },
      "source": [
        ""
      ],
      "execution_count": null,
      "outputs": []
    },
    {
      "cell_type": "code",
      "metadata": {
        "id": "AIhHvVoxVIbr"
      },
      "source": [
        ""
      ],
      "execution_count": null,
      "outputs": []
    },
    {
      "cell_type": "code",
      "metadata": {
        "id": "cEfXYnSQVIwQ"
      },
      "source": [
        ""
      ],
      "execution_count": null,
      "outputs": []
    },
    {
      "cell_type": "code",
      "metadata": {
        "id": "xKOXL35sVJS0"
      },
      "source": [
        ""
      ],
      "execution_count": null,
      "outputs": []
    },
    {
      "cell_type": "code",
      "metadata": {
        "id": "E-EQhRkeVJjR"
      },
      "source": [
        ""
      ],
      "execution_count": null,
      "outputs": []
    },
    {
      "cell_type": "code",
      "metadata": {
        "id": "Nasc8qOoVJz8"
      },
      "source": [
        ""
      ],
      "execution_count": null,
      "outputs": []
    },
    {
      "cell_type": "code",
      "metadata": {
        "id": "puwm8_52VKJh"
      },
      "source": [
        ""
      ],
      "execution_count": null,
      "outputs": []
    },
    {
      "cell_type": "code",
      "metadata": {
        "id": "KZtYUHtXVKbi"
      },
      "source": [
        ""
      ],
      "execution_count": null,
      "outputs": []
    }
  ]
}