{
  "nbformat": 4,
  "nbformat_minor": 0,
  "metadata": {
    "colab": {
      "name": "asign.4.ipynb",
      "provenance": [],
      "authorship_tag": "ABX9TyMIdWc5/qlfKCOGTa8P6kUs",
      "include_colab_link": true
    },
    "kernelspec": {
      "name": "python3",
      "display_name": "Python 3"
    },
    "language_info": {
      "name": "python"
    }
  },
  "cells": [
    {
      "cell_type": "markdown",
      "metadata": {
        "id": "view-in-github",
        "colab_type": "text"
      },
      "source": [
        "<a href=\"https://colab.research.google.com/github/C9201MLK/Pyhton/blob/main/asign_4.ipynb\" target=\"_parent\"><img src=\"https://colab.research.google.com/assets/colab-badge.svg\" alt=\"Open In Colab\"/></a>"
      ]
    },
    {
      "cell_type": "code",
      "metadata": {
        "colab": {
          "base_uri": "https://localhost:8080/"
        },
        "id": "791NwrhaD_sK",
        "outputId": "cdec718a-7a1b-47c3-acab-1f5b7ba8e520"
      },
      "source": [
        "sayı = int(input(\"Please enter you number :\"))\n",
        "asalmi = True\n",
        "if sayı <= 1:\n",
        "    asalmi = False\n",
        "for i in range (2, sayı):\n",
        "    if (sayı % i == 0) :\n",
        "        asalmi = False\n",
        "        break\n",
        "if asalmi:\n",
        "    print(\"girilen sayı asaldır..\")\n",
        "else :\n",
        "    print(\"sayı asal değildir...\")"
      ],
      "execution_count": 1,
      "outputs": [
        {
          "output_type": "stream",
          "text": [
            "Please enter you number :55\n",
            "sayı asal değildir...\n"
          ],
          "name": "stdout"
        }
      ]
    }
  ]
}